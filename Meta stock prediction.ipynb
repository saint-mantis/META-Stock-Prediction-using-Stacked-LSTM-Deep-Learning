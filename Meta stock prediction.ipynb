{
  "nbformat": 4,
  "nbformat_minor": 0,
  "metadata": {
    "colab": {
      "provenance": []
    },
    "kernelspec": {
      "name": "python3",
      "display_name": "Python 3"
    },
    "language_info": {
      "name": "python"
    }
  },
  "cells": [
    {
      "cell_type": "code",
      "source": [
        "import pandas as pd"
      ],
      "metadata": {
        "id": "AloY8WN32pI-"
      },
      "execution_count": 43,
      "outputs": []
    },
    {
      "cell_type": "code",
      "source": [
        "df=pd.read_csv('/content/META Stock data.csv')"
      ],
      "metadata": {
        "id": "tRhmx8cF2qtq"
      },
      "execution_count": 44,
      "outputs": []
    },
    {
      "cell_type": "code",
      "source": [
        "df.head()"
      ],
      "metadata": {
        "colab": {
          "base_uri": "https://localhost:8080/",
          "height": 206
        },
        "id": "uaxN2aRV2qu7",
        "outputId": "7f52e5b0-fe5c-4c60-c718-891fdeec0a4e"
      },
      "execution_count": 45,
      "outputs": [
        {
          "output_type": "execute_result",
          "data": {
            "text/plain": [
              "         Date       Open       High        Low      Close  Adj Close  \\\n",
              "0  2012-05-18  42.049999  45.000000  38.000000  38.230000  38.230000   \n",
              "1  2012-05-21  36.529999  36.660000  33.000000  34.029999  34.029999   \n",
              "2  2012-05-22  32.610001  33.590000  30.940001  31.000000  31.000000   \n",
              "3  2012-05-23  31.370001  32.500000  31.360001  32.000000  32.000000   \n",
              "4  2012-05-24  32.950001  33.209999  31.770000  33.029999  33.029999   \n",
              "\n",
              "      Volume  \n",
              "0  573576400  \n",
              "1  168192700  \n",
              "2  101786600  \n",
              "3   73600000  \n",
              "4   50237200  "
            ],
            "text/html": [
              "\n",
              "  <div id=\"df-968b9a9f-c652-431f-9696-5833bc4703f7\">\n",
              "    <div class=\"colab-df-container\">\n",
              "      <div>\n",
              "<style scoped>\n",
              "    .dataframe tbody tr th:only-of-type {\n",
              "        vertical-align: middle;\n",
              "    }\n",
              "\n",
              "    .dataframe tbody tr th {\n",
              "        vertical-align: top;\n",
              "    }\n",
              "\n",
              "    .dataframe thead th {\n",
              "        text-align: right;\n",
              "    }\n",
              "</style>\n",
              "<table border=\"1\" class=\"dataframe\">\n",
              "  <thead>\n",
              "    <tr style=\"text-align: right;\">\n",
              "      <th></th>\n",
              "      <th>Date</th>\n",
              "      <th>Open</th>\n",
              "      <th>High</th>\n",
              "      <th>Low</th>\n",
              "      <th>Close</th>\n",
              "      <th>Adj Close</th>\n",
              "      <th>Volume</th>\n",
              "    </tr>\n",
              "  </thead>\n",
              "  <tbody>\n",
              "    <tr>\n",
              "      <th>0</th>\n",
              "      <td>2012-05-18</td>\n",
              "      <td>42.049999</td>\n",
              "      <td>45.000000</td>\n",
              "      <td>38.000000</td>\n",
              "      <td>38.230000</td>\n",
              "      <td>38.230000</td>\n",
              "      <td>573576400</td>\n",
              "    </tr>\n",
              "    <tr>\n",
              "      <th>1</th>\n",
              "      <td>2012-05-21</td>\n",
              "      <td>36.529999</td>\n",
              "      <td>36.660000</td>\n",
              "      <td>33.000000</td>\n",
              "      <td>34.029999</td>\n",
              "      <td>34.029999</td>\n",
              "      <td>168192700</td>\n",
              "    </tr>\n",
              "    <tr>\n",
              "      <th>2</th>\n",
              "      <td>2012-05-22</td>\n",
              "      <td>32.610001</td>\n",
              "      <td>33.590000</td>\n",
              "      <td>30.940001</td>\n",
              "      <td>31.000000</td>\n",
              "      <td>31.000000</td>\n",
              "      <td>101786600</td>\n",
              "    </tr>\n",
              "    <tr>\n",
              "      <th>3</th>\n",
              "      <td>2012-05-23</td>\n",
              "      <td>31.370001</td>\n",
              "      <td>32.500000</td>\n",
              "      <td>31.360001</td>\n",
              "      <td>32.000000</td>\n",
              "      <td>32.000000</td>\n",
              "      <td>73600000</td>\n",
              "    </tr>\n",
              "    <tr>\n",
              "      <th>4</th>\n",
              "      <td>2012-05-24</td>\n",
              "      <td>32.950001</td>\n",
              "      <td>33.209999</td>\n",
              "      <td>31.770000</td>\n",
              "      <td>33.029999</td>\n",
              "      <td>33.029999</td>\n",
              "      <td>50237200</td>\n",
              "    </tr>\n",
              "  </tbody>\n",
              "</table>\n",
              "</div>\n",
              "      <button class=\"colab-df-convert\" onclick=\"convertToInteractive('df-968b9a9f-c652-431f-9696-5833bc4703f7')\"\n",
              "              title=\"Convert this dataframe to an interactive table.\"\n",
              "              style=\"display:none;\">\n",
              "        \n",
              "  <svg xmlns=\"http://www.w3.org/2000/svg\" height=\"24px\"viewBox=\"0 0 24 24\"\n",
              "       width=\"24px\">\n",
              "    <path d=\"M0 0h24v24H0V0z\" fill=\"none\"/>\n",
              "    <path d=\"M18.56 5.44l.94 2.06.94-2.06 2.06-.94-2.06-.94-.94-2.06-.94 2.06-2.06.94zm-11 1L8.5 8.5l.94-2.06 2.06-.94-2.06-.94L8.5 2.5l-.94 2.06-2.06.94zm10 10l.94 2.06.94-2.06 2.06-.94-2.06-.94-.94-2.06-.94 2.06-2.06.94z\"/><path d=\"M17.41 7.96l-1.37-1.37c-.4-.4-.92-.59-1.43-.59-.52 0-1.04.2-1.43.59L10.3 9.45l-7.72 7.72c-.78.78-.78 2.05 0 2.83L4 21.41c.39.39.9.59 1.41.59.51 0 1.02-.2 1.41-.59l7.78-7.78 2.81-2.81c.8-.78.8-2.07 0-2.86zM5.41 20L4 18.59l7.72-7.72 1.47 1.35L5.41 20z\"/>\n",
              "  </svg>\n",
              "      </button>\n",
              "      \n",
              "  <style>\n",
              "    .colab-df-container {\n",
              "      display:flex;\n",
              "      flex-wrap:wrap;\n",
              "      gap: 12px;\n",
              "    }\n",
              "\n",
              "    .colab-df-convert {\n",
              "      background-color: #E8F0FE;\n",
              "      border: none;\n",
              "      border-radius: 50%;\n",
              "      cursor: pointer;\n",
              "      display: none;\n",
              "      fill: #1967D2;\n",
              "      height: 32px;\n",
              "      padding: 0 0 0 0;\n",
              "      width: 32px;\n",
              "    }\n",
              "\n",
              "    .colab-df-convert:hover {\n",
              "      background-color: #E2EBFA;\n",
              "      box-shadow: 0px 1px 2px rgba(60, 64, 67, 0.3), 0px 1px 3px 1px rgba(60, 64, 67, 0.15);\n",
              "      fill: #174EA6;\n",
              "    }\n",
              "\n",
              "    [theme=dark] .colab-df-convert {\n",
              "      background-color: #3B4455;\n",
              "      fill: #D2E3FC;\n",
              "    }\n",
              "\n",
              "    [theme=dark] .colab-df-convert:hover {\n",
              "      background-color: #434B5C;\n",
              "      box-shadow: 0px 1px 3px 1px rgba(0, 0, 0, 0.15);\n",
              "      filter: drop-shadow(0px 1px 2px rgba(0, 0, 0, 0.3));\n",
              "      fill: #FFFFFF;\n",
              "    }\n",
              "  </style>\n",
              "\n",
              "      <script>\n",
              "        const buttonEl =\n",
              "          document.querySelector('#df-968b9a9f-c652-431f-9696-5833bc4703f7 button.colab-df-convert');\n",
              "        buttonEl.style.display =\n",
              "          google.colab.kernel.accessAllowed ? 'block' : 'none';\n",
              "\n",
              "        async function convertToInteractive(key) {\n",
              "          const element = document.querySelector('#df-968b9a9f-c652-431f-9696-5833bc4703f7');\n",
              "          const dataTable =\n",
              "            await google.colab.kernel.invokeFunction('convertToInteractive',\n",
              "                                                     [key], {});\n",
              "          if (!dataTable) return;\n",
              "\n",
              "          const docLinkHtml = 'Like what you see? Visit the ' +\n",
              "            '<a target=\"_blank\" href=https://colab.research.google.com/notebooks/data_table.ipynb>data table notebook</a>'\n",
              "            + ' to learn more about interactive tables.';\n",
              "          element.innerHTML = '';\n",
              "          dataTable['output_type'] = 'display_data';\n",
              "          await google.colab.output.renderOutput(dataTable, element);\n",
              "          const docLink = document.createElement('div');\n",
              "          docLink.innerHTML = docLinkHtml;\n",
              "          element.appendChild(docLink);\n",
              "        }\n",
              "      </script>\n",
              "    </div>\n",
              "  </div>\n",
              "  "
            ]
          },
          "metadata": {},
          "execution_count": 45
        }
      ]
    },
    {
      "cell_type": "code",
      "source": [
        "df.tail()"
      ],
      "metadata": {
        "colab": {
          "base_uri": "https://localhost:8080/",
          "height": 206
        },
        "id": "JnafhpzJ2ssW",
        "outputId": "17ff97f0-2863-4548-b816-d2c115f0e9e0"
      },
      "execution_count": 46,
      "outputs": [
        {
          "output_type": "execute_result",
          "data": {
            "text/plain": [
              "            Date        Open        High         Low       Close   Adj Close  \\\n",
              "2637  2022-11-09  101.720001  104.900002  100.739998  101.470001  101.470001   \n",
              "2638  2022-11-10  107.120003  112.750000  104.610001  111.870003  111.870003   \n",
              "2639  2022-11-11  109.230003  114.900002  108.809998  113.019997  113.019997   \n",
              "2640  2022-11-14  110.989998  116.269997  110.800003  114.220001  114.220001   \n",
              "2641  2022-11-15  116.070000  118.739998  114.410004  117.080002  117.080002   \n",
              "\n",
              "         Volume  \n",
              "2637  107677300  \n",
              "2638   80671000  \n",
              "2639   59836400  \n",
              "2640   53395000  \n",
              "2641   50549300  "
            ],
            "text/html": [
              "\n",
              "  <div id=\"df-0626318c-e5e3-48ae-85d6-831f110cf9be\">\n",
              "    <div class=\"colab-df-container\">\n",
              "      <div>\n",
              "<style scoped>\n",
              "    .dataframe tbody tr th:only-of-type {\n",
              "        vertical-align: middle;\n",
              "    }\n",
              "\n",
              "    .dataframe tbody tr th {\n",
              "        vertical-align: top;\n",
              "    }\n",
              "\n",
              "    .dataframe thead th {\n",
              "        text-align: right;\n",
              "    }\n",
              "</style>\n",
              "<table border=\"1\" class=\"dataframe\">\n",
              "  <thead>\n",
              "    <tr style=\"text-align: right;\">\n",
              "      <th></th>\n",
              "      <th>Date</th>\n",
              "      <th>Open</th>\n",
              "      <th>High</th>\n",
              "      <th>Low</th>\n",
              "      <th>Close</th>\n",
              "      <th>Adj Close</th>\n",
              "      <th>Volume</th>\n",
              "    </tr>\n",
              "  </thead>\n",
              "  <tbody>\n",
              "    <tr>\n",
              "      <th>2637</th>\n",
              "      <td>2022-11-09</td>\n",
              "      <td>101.720001</td>\n",
              "      <td>104.900002</td>\n",
              "      <td>100.739998</td>\n",
              "      <td>101.470001</td>\n",
              "      <td>101.470001</td>\n",
              "      <td>107677300</td>\n",
              "    </tr>\n",
              "    <tr>\n",
              "      <th>2638</th>\n",
              "      <td>2022-11-10</td>\n",
              "      <td>107.120003</td>\n",
              "      <td>112.750000</td>\n",
              "      <td>104.610001</td>\n",
              "      <td>111.870003</td>\n",
              "      <td>111.870003</td>\n",
              "      <td>80671000</td>\n",
              "    </tr>\n",
              "    <tr>\n",
              "      <th>2639</th>\n",
              "      <td>2022-11-11</td>\n",
              "      <td>109.230003</td>\n",
              "      <td>114.900002</td>\n",
              "      <td>108.809998</td>\n",
              "      <td>113.019997</td>\n",
              "      <td>113.019997</td>\n",
              "      <td>59836400</td>\n",
              "    </tr>\n",
              "    <tr>\n",
              "      <th>2640</th>\n",
              "      <td>2022-11-14</td>\n",
              "      <td>110.989998</td>\n",
              "      <td>116.269997</td>\n",
              "      <td>110.800003</td>\n",
              "      <td>114.220001</td>\n",
              "      <td>114.220001</td>\n",
              "      <td>53395000</td>\n",
              "    </tr>\n",
              "    <tr>\n",
              "      <th>2641</th>\n",
              "      <td>2022-11-15</td>\n",
              "      <td>116.070000</td>\n",
              "      <td>118.739998</td>\n",
              "      <td>114.410004</td>\n",
              "      <td>117.080002</td>\n",
              "      <td>117.080002</td>\n",
              "      <td>50549300</td>\n",
              "    </tr>\n",
              "  </tbody>\n",
              "</table>\n",
              "</div>\n",
              "      <button class=\"colab-df-convert\" onclick=\"convertToInteractive('df-0626318c-e5e3-48ae-85d6-831f110cf9be')\"\n",
              "              title=\"Convert this dataframe to an interactive table.\"\n",
              "              style=\"display:none;\">\n",
              "        \n",
              "  <svg xmlns=\"http://www.w3.org/2000/svg\" height=\"24px\"viewBox=\"0 0 24 24\"\n",
              "       width=\"24px\">\n",
              "    <path d=\"M0 0h24v24H0V0z\" fill=\"none\"/>\n",
              "    <path d=\"M18.56 5.44l.94 2.06.94-2.06 2.06-.94-2.06-.94-.94-2.06-.94 2.06-2.06.94zm-11 1L8.5 8.5l.94-2.06 2.06-.94-2.06-.94L8.5 2.5l-.94 2.06-2.06.94zm10 10l.94 2.06.94-2.06 2.06-.94-2.06-.94-.94-2.06-.94 2.06-2.06.94z\"/><path d=\"M17.41 7.96l-1.37-1.37c-.4-.4-.92-.59-1.43-.59-.52 0-1.04.2-1.43.59L10.3 9.45l-7.72 7.72c-.78.78-.78 2.05 0 2.83L4 21.41c.39.39.9.59 1.41.59.51 0 1.02-.2 1.41-.59l7.78-7.78 2.81-2.81c.8-.78.8-2.07 0-2.86zM5.41 20L4 18.59l7.72-7.72 1.47 1.35L5.41 20z\"/>\n",
              "  </svg>\n",
              "      </button>\n",
              "      \n",
              "  <style>\n",
              "    .colab-df-container {\n",
              "      display:flex;\n",
              "      flex-wrap:wrap;\n",
              "      gap: 12px;\n",
              "    }\n",
              "\n",
              "    .colab-df-convert {\n",
              "      background-color: #E8F0FE;\n",
              "      border: none;\n",
              "      border-radius: 50%;\n",
              "      cursor: pointer;\n",
              "      display: none;\n",
              "      fill: #1967D2;\n",
              "      height: 32px;\n",
              "      padding: 0 0 0 0;\n",
              "      width: 32px;\n",
              "    }\n",
              "\n",
              "    .colab-df-convert:hover {\n",
              "      background-color: #E2EBFA;\n",
              "      box-shadow: 0px 1px 2px rgba(60, 64, 67, 0.3), 0px 1px 3px 1px rgba(60, 64, 67, 0.15);\n",
              "      fill: #174EA6;\n",
              "    }\n",
              "\n",
              "    [theme=dark] .colab-df-convert {\n",
              "      background-color: #3B4455;\n",
              "      fill: #D2E3FC;\n",
              "    }\n",
              "\n",
              "    [theme=dark] .colab-df-convert:hover {\n",
              "      background-color: #434B5C;\n",
              "      box-shadow: 0px 1px 3px 1px rgba(0, 0, 0, 0.15);\n",
              "      filter: drop-shadow(0px 1px 2px rgba(0, 0, 0, 0.3));\n",
              "      fill: #FFFFFF;\n",
              "    }\n",
              "  </style>\n",
              "\n",
              "      <script>\n",
              "        const buttonEl =\n",
              "          document.querySelector('#df-0626318c-e5e3-48ae-85d6-831f110cf9be button.colab-df-convert');\n",
              "        buttonEl.style.display =\n",
              "          google.colab.kernel.accessAllowed ? 'block' : 'none';\n",
              "\n",
              "        async function convertToInteractive(key) {\n",
              "          const element = document.querySelector('#df-0626318c-e5e3-48ae-85d6-831f110cf9be');\n",
              "          const dataTable =\n",
              "            await google.colab.kernel.invokeFunction('convertToInteractive',\n",
              "                                                     [key], {});\n",
              "          if (!dataTable) return;\n",
              "\n",
              "          const docLinkHtml = 'Like what you see? Visit the ' +\n",
              "            '<a target=\"_blank\" href=https://colab.research.google.com/notebooks/data_table.ipynb>data table notebook</a>'\n",
              "            + ' to learn more about interactive tables.';\n",
              "          element.innerHTML = '';\n",
              "          dataTable['output_type'] = 'display_data';\n",
              "          await google.colab.output.renderOutput(dataTable, element);\n",
              "          const docLink = document.createElement('div');\n",
              "          docLink.innerHTML = docLinkHtml;\n",
              "          element.appendChild(docLink);\n",
              "        }\n",
              "      </script>\n",
              "    </div>\n",
              "  </div>\n",
              "  "
            ]
          },
          "metadata": {},
          "execution_count": 46
        }
      ]
    },
    {
      "cell_type": "code",
      "source": [
        "df1=df.reset_index()['Close']"
      ],
      "metadata": {
        "id": "nWFFyS562u92"
      },
      "execution_count": 47,
      "outputs": []
    },
    {
      "cell_type": "code",
      "source": [
        "df1"
      ],
      "metadata": {
        "colab": {
          "base_uri": "https://localhost:8080/"
        },
        "id": "v9djpdTW2v6k",
        "outputId": "316ce50e-cee5-419e-c6b9-bff7dbfd5932"
      },
      "execution_count": 48,
      "outputs": [
        {
          "output_type": "execute_result",
          "data": {
            "text/plain": [
              "0        38.230000\n",
              "1        34.029999\n",
              "2        31.000000\n",
              "3        32.000000\n",
              "4        33.029999\n",
              "           ...    \n",
              "2637    101.470001\n",
              "2638    111.870003\n",
              "2639    113.019997\n",
              "2640    114.220001\n",
              "2641    117.080002\n",
              "Name: Close, Length: 2642, dtype: float64"
            ]
          },
          "metadata": {},
          "execution_count": 48
        }
      ]
    },
    {
      "cell_type": "code",
      "source": [
        "import matplotlib.pyplot as plt\n",
        "plt.plot(df1)"
      ],
      "metadata": {
        "colab": {
          "base_uri": "https://localhost:8080/",
          "height": 286
        },
        "id": "UxLTvjLd2xZV",
        "outputId": "854f87ad-d602-493c-ccad-a4b318f20e21"
      },
      "execution_count": 49,
      "outputs": [
        {
          "output_type": "execute_result",
          "data": {
            "text/plain": [
              "[<matplotlib.lines.Line2D at 0x7f6c597c36d0>]"
            ]
          },
          "metadata": {},
          "execution_count": 49
        },
        {
          "output_type": "display_data",
          "data": {
            "text/plain": [
              "<Figure size 432x288 with 1 Axes>"
            ],
            "image/png": "[encoded data removed]"
          },
          "metadata": {
            "needs_background": "light"
          }
        }
      ]
    },
    {
      "cell_type": "code",
      "source": [
        "import numpy as np"
      ],
      "metadata": {
        "id": "JpFszX4Q2ymm"
      },
      "execution_count": 50,
      "outputs": []
    },
    {
      "cell_type": "code",
      "source": [
        "from sklearn.preprocessing import MinMaxScaler\n",
        "scaler=MinMaxScaler(feature_range=(0,1))\n",
        "df1=scaler.fit_transform(np.array(df1).reshape(-1,1))"
      ],
      "metadata": {
        "id": "xYDzAo_O2z1n"
      },
      "execution_count": 51,
      "outputs": []
    },
    {
      "cell_type": "code",
      "source": [
        "##splitting dataset into train and test split\n",
        "training_size=int(len(df1)*0.65)\n",
        "test_size=len(df1)-training_size\n",
        "train_data,test_data=df1[0:training_size,:],df1[training_size:len(df1),:1]"
      ],
      "metadata": {
        "id": "w67SokHh21v9"
      },
      "execution_count": 52,
      "outputs": []
    },
    {
      "cell_type": "code",
      "source": [
        "import numpy\n",
        "# convert an array of values into a dataset matrix\n",
        "def create_dataset(dataset, time_step=1):\n",
        "\tdataX, dataY = [], []\n",
        "\tfor i in range(len(dataset)-time_step-1):\n",
        "\t\ta = dataset[i:(i+time_step), 0]   ###i=0, 0,1,2,3-----99   100 \n",
        "\t\tdataX.append(a)\n",
        "\t\tdataY.append(dataset[i + time_step, 0])\n",
        "\treturn numpy.array(dataX), numpy.array(dataY)"
      ],
      "metadata": {
        "id": "BTGacWNH24jI"
      },
      "execution_count": 53,
      "outputs": []
    },
    {
      "cell_type": "code",
      "source": [
        "# reshape into X=t,t+1,t+2,t+3 and Y=t+4\n",
        "time_step = 100\n",
        "X_train, y_train = create_dataset(train_data, time_step)\n",
        "X_test, ytest = create_dataset(test_data, time_step)"
      ],
      "metadata": {
        "id": "1vpDw2Xw25l1"
      },
      "execution_count": 54,
      "outputs": []
    },
    {
      "cell_type": "code",
      "source": [
        "print(X_train.shape), print(y_train.shape)"
      ],
      "metadata": {
        "colab": {
          "base_uri": "https://localhost:8080/"
        },
        "id": "3fyspvNQ28j-",
        "outputId": "b21413ed-756e-49c3-9f89-a443c02ca99b"
      },
      "execution_count": 55,
      "outputs": [
        {
          "output_type": "stream",
          "name": "stdout",
          "text": [
            "(1616, 100)\n",
            "(1616,)\n"
          ]
        },
        {
          "output_type": "execute_result",
          "data": {
            "text/plain": [
              "(None, None)"
            ]
          },
          "metadata": {},
          "execution_count": 55
        }
      ]
    },
    {
      "cell_type": "code",
      "source": [
        "print(X_test.shape), print(ytest.shape)"
      ],
      "metadata": {
        "colab": {
          "base_uri": "https://localhost:8080/"
        },
        "id": "XgDbLhqB29Xe",
        "outputId": "711d9ddb-4be7-4ae7-ddba-b7c2fa78eb69"
      },
      "execution_count": 56,
      "outputs": [
        {
          "output_type": "stream",
          "name": "stdout",
          "text": [
            "(824, 100)\n",
            "(824,)\n"
          ]
        },
        {
          "output_type": "execute_result",
          "data": {
            "text/plain": [
              "(None, None)"
            ]
          },
          "metadata": {},
          "execution_count": 56
        }
      ]
    },
    {
      "cell_type": "code",
      "source": [
        "# reshape input to be [samples, time steps, features] which is required for LSTM\n",
        "X_train =X_train.reshape(X_train.shape[0],X_train.shape[1] , 1)\n",
        "X_test = X_test.reshape(X_test.shape[0],X_test.shape[1] , 1)"
      ],
      "metadata": {
        "id": "DJ-F5xT52-Ww"
      },
      "execution_count": 57,
      "outputs": []
    },
    {
      "cell_type": "code",
      "source": [
        "### Create the Stacked LSTM model\n",
        "from tensorflow.keras.models import Sequential\n",
        "from tensorflow.keras.layers import Dense\n",
        "from tensorflow.keras.layers import LSTM"
      ],
      "metadata": {
        "id": "bkWUYgHQ2_XZ"
      },
      "execution_count": 58,
      "outputs": []
    },
    {
      "cell_type": "code",
      "source": [
        "model=Sequential()\n",
        "model.add(LSTM(50,return_sequences=True,input_shape=(100,1)))\n",
        "model.add(LSTM(50,return_sequences=True))\n",
        "model.add(LSTM(50))\n",
        "model.add(Dense(1))\n",
        "model.compile(loss='mean_squared_error',optimizer='adam')"
      ],
      "metadata": {
        "id": "yCl-gN5h2_Yd"
      },
      "execution_count": 59,
      "outputs": []
    },
    {
      "cell_type": "code",
      "source": [
        "model.summary()"
      ],
      "metadata": {
        "colab": {
          "base_uri": "https://localhost:8080/"
        },
        "id": "VqMX0rFR3BqO",
        "outputId": "96dd542e-1f63-4450-f720-e14874c0d126"
      },
      "execution_count": 60,
      "outputs": [
        {
          "output_type": "stream",
          "name": "stdout",
          "text": [
            "Model: \"sequential_1\"\n",
            "_________________________________________________________________\n",
            " Layer (type)                Output Shape              Param #   \n",
            "=================================================================\n",
            " lstm_3 (LSTM)               (None, 100, 50)           10400     \n",
            "                                                                 \n",
            " lstm_4 (LSTM)               (None, 100, 50)           20200     \n",
            "                                                                 \n",
            " lstm_5 (LSTM)               (None, 50)                20200     \n",
            "                                                                 \n",
            " dense_1 (Dense)             (None, 1)                 51        \n",
            "                                                                 \n",
            "=================================================================\n",
            "Total params: 50,851\n",
            "Trainable params: 50,851\n",
            "Non-trainable params: 0\n",
            "_________________________________________________________________\n"
          ]
        }
      ]
    },
    {
      "cell_type": "code",
      "source": [
        "model.fit(X_train,y_train,validation_data=(X_test,ytest),epochs=100,batch_size=64,verbose=1)"
      ],
      "metadata": {
        "colab": {
          "base_uri": "https://localhost:8080/"
        },
        "id": "Vq1B3pxX3Di4",
        "outputId": "19742c81-a609-4bd4-c6dc-8e3d9fab7c3b"
      },
      "execution_count": 71,
      "outputs": [
        {
          "output_type": "stream",
          "name": "stdout",
          "text": [
            "Epoch 1/100\n",
            "26/26 [==============================] - 6s 245ms/step - loss: 7.1341e-05 - val_loss: 0.0022\n",
            "Epoch 2/100\n",
            "26/26 [==============================] - 11s 404ms/step - loss: 6.2918e-05 - val_loss: 9.9726e-04\n",
            "Epoch 3/100\n",
            "26/26 [==============================] - 10s 369ms/step - loss: 5.8636e-05 - val_loss: 0.0016\n",
            "Epoch 4/100\n",
            "26/26 [==============================] - 5s 205ms/step - loss: 6.0781e-05 - val_loss: 0.0015\n",
            "Epoch 5/100\n",
            "26/26 [==============================] - 6s 235ms/step - loss: 5.6470e-05 - val_loss: 0.0014\n",
            "Epoch 6/100\n",
            "26/26 [==============================] - 6s 212ms/step - loss: 7.1271e-05 - val_loss: 0.0012\n",
            "Epoch 7/100\n",
            "26/26 [==============================] - 5s 210ms/step - loss: 5.6475e-05 - val_loss: 0.0010\n",
            "Epoch 8/100\n",
            "26/26 [==============================] - 5s 206ms/step - loss: 6.4124e-05 - val_loss: 0.0027\n",
            "Epoch 9/100\n",
            "26/26 [==============================] - 5s 209ms/step - loss: 8.9675e-05 - val_loss: 8.8503e-04\n",
            "Epoch 10/100\n",
            "26/26 [==============================] - 5s 210ms/step - loss: 7.3245e-05 - val_loss: 0.0016\n",
            "Epoch 11/100\n",
            "26/26 [==============================] - 5s 207ms/step - loss: 5.8788e-05 - val_loss: 0.0014\n",
            "Epoch 12/100\n",
            "26/26 [==============================] - 5s 210ms/step - loss: 5.4471e-05 - val_loss: 0.0013\n",
            "Epoch 13/100\n",
            "26/26 [==============================] - 6s 212ms/step - loss: 5.5454e-05 - val_loss: 0.0027\n",
            "Epoch 14/100\n",
            "26/26 [==============================] - 5s 205ms/step - loss: 6.3315e-05 - val_loss: 0.0010\n",
            "Epoch 15/100\n",
            "26/26 [==============================] - 7s 260ms/step - loss: 6.3283e-05 - val_loss: 0.0017\n",
            "Epoch 16/100\n",
            "26/26 [==============================] - 5s 212ms/step - loss: 5.0311e-05 - val_loss: 0.0013\n",
            "Epoch 17/100\n",
            "26/26 [==============================] - 5s 206ms/step - loss: 5.3503e-05 - val_loss: 0.0011\n",
            "Epoch 18/100\n",
            "26/26 [==============================] - 6s 244ms/step - loss: 5.1152e-05 - val_loss: 0.0011\n",
            "Epoch 19/100\n",
            "26/26 [==============================] - 6s 212ms/step - loss: 5.7242e-05 - val_loss: 0.0019\n",
            "Epoch 20/100\n",
            "26/26 [==============================] - 5s 206ms/step - loss: 5.8245e-05 - val_loss: 0.0011\n",
            "Epoch 21/100\n",
            "26/26 [==============================] - 5s 207ms/step - loss: 5.8450e-05 - val_loss: 0.0015\n",
            "Epoch 22/100\n",
            "26/26 [==============================] - 5s 210ms/step - loss: 5.2728e-05 - val_loss: 0.0017\n",
            "Epoch 23/100\n",
            "26/26 [==============================] - 5s 206ms/step - loss: 5.0305e-05 - val_loss: 0.0012\n",
            "Epoch 24/100\n",
            "26/26 [==============================] - 5s 204ms/step - loss: 5.4678e-05 - val_loss: 0.0010\n",
            "Epoch 25/100\n",
            "26/26 [==============================] - 5s 212ms/step - loss: 5.1090e-05 - val_loss: 0.0014\n",
            "Epoch 26/100\n",
            "26/26 [==============================] - 5s 205ms/step - loss: 5.0024e-05 - val_loss: 6.9925e-04\n",
            "Epoch 27/100\n",
            "26/26 [==============================] - 5s 202ms/step - loss: 4.9377e-05 - val_loss: 6.7581e-04\n",
            "Epoch 28/100\n",
            "26/26 [==============================] - 5s 206ms/step - loss: 6.8285e-05 - val_loss: 8.8847e-04\n",
            "Epoch 29/100\n",
            "26/26 [==============================] - 5s 206ms/step - loss: 4.8966e-05 - val_loss: 0.0011\n",
            "Epoch 30/100\n",
            "26/26 [==============================] - 5s 201ms/step - loss: 4.7017e-05 - val_loss: 8.8760e-04\n",
            "Epoch 31/100\n",
            "26/26 [==============================] - 5s 208ms/step - loss: 5.0151e-05 - val_loss: 0.0016\n",
            "Epoch 32/100\n",
            "26/26 [==============================] - 7s 255ms/step - loss: 6.2921e-05 - val_loss: 0.0015\n",
            "Epoch 33/100\n",
            "26/26 [==============================] - 5s 201ms/step - loss: 4.9826e-05 - val_loss: 0.0012\n",
            "Epoch 34/100\n",
            "26/26 [==============================] - 5s 206ms/step - loss: 5.8969e-05 - val_loss: 0.0011\n",
            "Epoch 35/100\n",
            "26/26 [==============================] - 5s 210ms/step - loss: 5.2229e-05 - val_loss: 7.8981e-04\n",
            "Epoch 36/100\n",
            "26/26 [==============================] - 5s 208ms/step - loss: 5.1579e-05 - val_loss: 9.7322e-04\n",
            "Epoch 37/100\n",
            "26/26 [==============================] - 5s 204ms/step - loss: 5.6598e-05 - val_loss: 0.0011\n",
            "Epoch 38/100\n",
            "26/26 [==============================] - 5s 210ms/step - loss: 4.4425e-05 - val_loss: 0.0013\n",
            "Epoch 39/100\n",
            "26/26 [==============================] - 6s 230ms/step - loss: 4.4907e-05 - val_loss: 0.0011\n",
            "Epoch 40/100\n",
            "26/26 [==============================] - 6s 217ms/step - loss: 5.4685e-05 - val_loss: 9.8694e-04\n",
            "Epoch 41/100\n",
            "26/26 [==============================] - 5s 209ms/step - loss: 4.4780e-05 - val_loss: 9.3173e-04\n",
            "Epoch 42/100\n",
            "26/26 [==============================] - 5s 207ms/step - loss: 5.4631e-05 - val_loss: 0.0018\n",
            "Epoch 43/100\n",
            "26/26 [==============================] - 5s 203ms/step - loss: 5.0382e-05 - val_loss: 8.6872e-04\n",
            "Epoch 44/100\n",
            "26/26 [==============================] - 5s 206ms/step - loss: 4.5188e-05 - val_loss: 0.0013\n",
            "Epoch 45/100\n",
            "26/26 [==============================] - 6s 234ms/step - loss: 4.7594e-05 - val_loss: 0.0014\n",
            "Epoch 46/100\n",
            "26/26 [==============================] - 6s 215ms/step - loss: 4.7831e-05 - val_loss: 9.0168e-04\n",
            "Epoch 47/100\n",
            "26/26 [==============================] - 5s 209ms/step - loss: 6.9316e-05 - val_loss: 0.0018\n",
            "Epoch 48/100\n",
            "26/26 [==============================] - 5s 210ms/step - loss: 5.4066e-05 - val_loss: 0.0015\n",
            "Epoch 49/100\n",
            "26/26 [==============================] - 5s 202ms/step - loss: 4.6209e-05 - val_loss: 0.0016\n",
            "Epoch 50/100\n",
            "26/26 [==============================] - 5s 205ms/step - loss: 4.9848e-05 - val_loss: 0.0011\n",
            "Epoch 51/100\n",
            "26/26 [==============================] - 6s 233ms/step - loss: 4.3466e-05 - val_loss: 0.0013\n",
            "Epoch 52/100\n",
            "26/26 [==============================] - 6s 228ms/step - loss: 4.6452e-05 - val_loss: 0.0020\n",
            "Epoch 53/100\n",
            "26/26 [==============================] - 5s 207ms/step - loss: 5.6732e-05 - val_loss: 0.0010\n",
            "Epoch 54/100\n",
            "26/26 [==============================] - 5s 212ms/step - loss: 4.7707e-05 - val_loss: 0.0015\n",
            "Epoch 55/100\n",
            "26/26 [==============================] - 5s 209ms/step - loss: 4.6324e-05 - val_loss: 0.0010\n",
            "Epoch 56/100\n",
            "26/26 [==============================] - 5s 205ms/step - loss: 4.5182e-05 - val_loss: 0.0013\n",
            "Epoch 57/100\n",
            "26/26 [==============================] - 5s 211ms/step - loss: 4.6240e-05 - val_loss: 0.0015\n",
            "Epoch 58/100\n",
            "26/26 [==============================] - 6s 213ms/step - loss: 5.9238e-05 - val_loss: 0.0016\n",
            "Epoch 59/100\n",
            "26/26 [==============================] - 6s 252ms/step - loss: 5.1662e-05 - val_loss: 0.0013\n",
            "Epoch 60/100\n",
            "26/26 [==============================] - 5s 210ms/step - loss: 4.4642e-05 - val_loss: 0.0013\n",
            "Epoch 61/100\n",
            "26/26 [==============================] - 5s 210ms/step - loss: 4.6966e-05 - val_loss: 0.0013\n",
            "Epoch 62/100\n",
            "26/26 [==============================] - 5s 204ms/step - loss: 4.9242e-05 - val_loss: 0.0016\n",
            "Epoch 63/100\n",
            "26/26 [==============================] - 5s 210ms/step - loss: 5.7166e-05 - val_loss: 9.2739e-04\n",
            "Epoch 64/100\n",
            "26/26 [==============================] - 6s 216ms/step - loss: 6.3472e-05 - val_loss: 0.0012\n",
            "Epoch 65/100\n",
            "26/26 [==============================] - 5s 207ms/step - loss: 4.8330e-05 - val_loss: 9.3487e-04\n",
            "Epoch 66/100\n",
            "26/26 [==============================] - 5s 207ms/step - loss: 5.1079e-05 - val_loss: 0.0018\n",
            "Epoch 67/100\n",
            "26/26 [==============================] - 5s 212ms/step - loss: 5.0659e-05 - val_loss: 0.0011\n",
            "Epoch 68/100\n",
            "26/26 [==============================] - 5s 206ms/step - loss: 4.4408e-05 - val_loss: 0.0017\n",
            "Epoch 69/100\n",
            "26/26 [==============================] - 5s 205ms/step - loss: 4.8376e-05 - val_loss: 0.0014\n",
            "Epoch 70/100\n",
            "26/26 [==============================] - 5s 210ms/step - loss: 5.2124e-05 - val_loss: 0.0016\n",
            "Epoch 71/100\n",
            "26/26 [==============================] - 5s 207ms/step - loss: 4.8053e-05 - val_loss: 0.0012\n",
            "Epoch 72/100\n",
            "26/26 [==============================] - 5s 207ms/step - loss: 4.3911e-05 - val_loss: 0.0013\n",
            "Epoch 73/100\n",
            "26/26 [==============================] - 7s 257ms/step - loss: 5.3391e-05 - val_loss: 0.0016\n",
            "Epoch 74/100\n",
            "26/26 [==============================] - 6s 229ms/step - loss: 7.2124e-05 - val_loss: 0.0014\n",
            "Epoch 75/100\n",
            "26/26 [==============================] - 5s 206ms/step - loss: 4.9171e-05 - val_loss: 0.0013\n",
            "Epoch 76/100\n",
            "26/26 [==============================] - 5s 206ms/step - loss: 4.8247e-05 - val_loss: 8.2502e-04\n",
            "Epoch 77/100\n",
            "26/26 [==============================] - 5s 212ms/step - loss: 5.2489e-05 - val_loss: 0.0015\n",
            "Epoch 78/100\n",
            "26/26 [==============================] - 5s 206ms/step - loss: 5.4959e-05 - val_loss: 0.0012\n",
            "Epoch 79/100\n",
            "26/26 [==============================] - 5s 207ms/step - loss: 4.2974e-05 - val_loss: 0.0011\n",
            "Epoch 80/100\n",
            "26/26 [==============================] - 5s 212ms/step - loss: 4.5230e-05 - val_loss: 0.0012\n",
            "Epoch 81/100\n",
            "26/26 [==============================] - 5s 209ms/step - loss: 4.7948e-05 - val_loss: 0.0013\n",
            "Epoch 82/100\n",
            "26/26 [==============================] - 5s 206ms/step - loss: 4.6485e-05 - val_loss: 0.0014\n",
            "Epoch 83/100\n",
            "26/26 [==============================] - 6s 215ms/step - loss: 4.4105e-05 - val_loss: 0.0013\n",
            "Epoch 84/100\n",
            "26/26 [==============================] - 5s 208ms/step - loss: 4.9267e-05 - val_loss: 0.0013\n",
            "Epoch 85/100\n",
            "26/26 [==============================] - 5s 205ms/step - loss: 4.5060e-05 - val_loss: 0.0011\n",
            "Epoch 86/100\n",
            "26/26 [==============================] - 6s 213ms/step - loss: 5.2429e-05 - val_loss: 0.0018\n",
            "Epoch 87/100\n",
            "26/26 [==============================] - 6s 246ms/step - loss: 5.8297e-05 - val_loss: 0.0016\n",
            "Epoch 88/100\n",
            "26/26 [==============================] - 5s 205ms/step - loss: 4.9698e-05 - val_loss: 0.0016\n",
            "Epoch 89/100\n",
            "26/26 [==============================] - 5s 210ms/step - loss: 5.8376e-05 - val_loss: 0.0012\n",
            "Epoch 90/100\n",
            "26/26 [==============================] - 5s 208ms/step - loss: 4.4138e-05 - val_loss: 0.0018\n",
            "Epoch 91/100\n",
            "26/26 [==============================] - 5s 206ms/step - loss: 4.9533e-05 - val_loss: 0.0013\n",
            "Epoch 92/100\n",
            "26/26 [==============================] - 5s 210ms/step - loss: 4.5376e-05 - val_loss: 0.0019\n",
            "Epoch 93/100\n",
            "26/26 [==============================] - 5s 209ms/step - loss: 4.8765e-05 - val_loss: 0.0016\n",
            "Epoch 94/100\n",
            "26/26 [==============================] - 5s 205ms/step - loss: 4.7105e-05 - val_loss: 0.0012\n",
            "Epoch 95/100\n",
            "26/26 [==============================] - 6s 250ms/step - loss: 4.4290e-05 - val_loss: 9.6299e-04\n",
            "Epoch 96/100\n",
            "26/26 [==============================] - 5s 212ms/step - loss: 4.8958e-05 - val_loss: 0.0015\n",
            "Epoch 97/100\n",
            "26/26 [==============================] - 5s 207ms/step - loss: 4.3102e-05 - val_loss: 9.3989e-04\n",
            "Epoch 98/100\n",
            "26/26 [==============================] - 5s 206ms/step - loss: 5.4987e-05 - val_loss: 0.0020\n",
            "Epoch 99/100\n",
            "26/26 [==============================] - 6s 213ms/step - loss: 5.7556e-05 - val_loss: 0.0017\n",
            "Epoch 100/100\n",
            "26/26 [==============================] - 6s 227ms/step - loss: 4.6498e-05 - val_loss: 0.0015\n"
          ]
        },
        {
          "output_type": "execute_result",
          "data": {
            "text/plain": [
              "<keras.callbacks.History at 0x7f6c59781050>"
            ]
          },
          "metadata": {},
          "execution_count": 71
        }
      ]
    },
    {
      "cell_type": "code",
      "source": [
        "import tensorflow as tf"
      ],
      "metadata": {
        "id": "8zSVHIxg3E50"
      },
      "execution_count": 62,
      "outputs": []
    },
    {
      "cell_type": "code",
      "source": [
        "### Lets Do the prediction and check performance metrics\n",
        "train_predict=model.predict(X_train)\n",
        "test_predict=model.predict(X_test)"
      ],
      "metadata": {
        "colab": {
          "base_uri": "https://localhost:8080/"
        },
        "id": "YTNCga0M3GlO",
        "outputId": "c3cd0d7c-c6d7-4bde-dfcd-71f396948179"
      },
      "execution_count": 63,
      "outputs": [
        {
          "output_type": "stream",
          "name": "stdout",
          "text": [
            "51/51 [==============================] - 3s 43ms/step\n",
            "26/26 [==============================] - 1s 48ms/step\n"
          ]
        }
      ]
    },
    {
      "cell_type": "code",
      "source": [
        "##Transformback to original form\n",
        "train_predict=scaler.inverse_transform(train_predict)\n",
        "test_predict=scaler.inverse_transform(test_predict)"
      ],
      "metadata": {
        "id": "9IxYFFaD3Hl_"
      },
      "execution_count": 64,
      "outputs": []
    },
    {
      "cell_type": "code",
      "source": [
        "import math\n",
        "from sklearn.metrics import mean_squared_error\n",
        "math.sqrt(mean_squared_error(y_train,train_predict))"
      ],
      "metadata": {
        "colab": {
          "base_uri": "https://localhost:8080/"
        },
        "id": "fLY2n7rl3Io2",
        "outputId": "25674228-c00f-4147-9c78-6c0ecc765b02"
      },
      "execution_count": 65,
      "outputs": [
        {
          "output_type": "execute_result",
          "data": {
            "text/plain": [
              "118.46193188752306"
            ]
          },
          "metadata": {},
          "execution_count": 65
        }
      ]
    },
    {
      "cell_type": "code",
      "source": [
        "### Test Data RMSE\n",
        "math.sqrt(mean_squared_error(ytest,test_predict))"
      ],
      "metadata": {
        "colab": {
          "base_uri": "https://localhost:8080/"
        },
        "id": "hy0ysp-i3KBx",
        "outputId": "46b83b0e-647d-4dbe-cd5b-27ffc869ff0a"
      },
      "execution_count": 66,
      "outputs": [
        {
          "output_type": "execute_result",
          "data": {
            "text/plain": [
              "245.17041133748268"
            ]
          },
          "metadata": {},
          "execution_count": 66
        }
      ]
    },
    {
      "cell_type": "code",
      "source": [
        "### Plotting \n",
        "# shift train predictions for plotting\n",
        "look_back=100\n",
        "trainPredictPlot = numpy.empty_like(df1)\n",
        "trainPredictPlot[:, :] = np.nan\n",
        "trainPredictPlot[look_back:len(train_predict)+look_back, :] = train_predict\n",
        "# shift test predictions for plotting\n",
        "testPredictPlot = numpy.empty_like(df1)\n",
        "testPredictPlot[:, :] = numpy.nan\n",
        "testPredictPlot[len(train_predict)+(look_back*2)+1:len(df1)-1, :] = test_predict\n",
        "# plot baseline and predictions\n",
        "plt.plot(scaler.inverse_transform(df1))\n",
        "plt.plot(trainPredictPlot)\n",
        "plt.plot(testPredictPlot)\n",
        "plt.show()"
      ],
      "metadata": {
        "colab": {
          "base_uri": "https://localhost:8080/",
          "height": 269
        },
        "id": "lVtUl88j3LQB",
        "outputId": "17871675-a60f-46e0-9f12-f54744142d3d"
      },
      "execution_count": 67,
      "outputs": [
        {
          "output_type": "display_data",
          "data": {
            "text/plain": [
              "<Figure size 432x288 with 1 Axes>"
            ],
            "image/png": "[encoded data removed]"
          },
          "metadata": {
            "needs_background": "light"
          }
        }
      ]
    },
    {
      "cell_type": "code",
      "source": [
        "len(test_data)"
      ],
      "metadata": {
        "colab": {
          "base_uri": "https://localhost:8080/"
        },
        "id": "alIAJeC2Kh0E",
        "outputId": "47e51988-9f34-4784-d9ad-113ca6faa96f"
      },
      "execution_count": 78,
      "outputs": [
        {
          "output_type": "execute_result",
          "data": {
            "text/plain": [
              "925"
            ]
          },
          "metadata": {},
          "execution_count": 78
        }
      ]
    },
    {
      "cell_type": "code",
      "source": [
        "x_input=test_data[825:].reshape(1,-1)\n",
        "x_input.shape\n"
      ],
      "metadata": {
        "colab": {
          "base_uri": "https://localhost:8080/"
        },
        "id": "Kgk_hCmY3Mru",
        "outputId": "7fbe3b01-6286-43a9-dafd-e33ddb0c940c"
      },
      "execution_count": 79,
      "outputs": [
        {
          "output_type": "execute_result",
          "data": {
            "text/plain": [
              "(1, 100)"
            ]
          },
          "metadata": {},
          "execution_count": 79
        }
      ]
    },
    {
      "cell_type": "code",
      "source": [
        "temp_input=list(x_input)\n",
        "temp_input=temp_input[0].tolist()"
      ],
      "metadata": {
        "id": "obOe1IFZ5G6u"
      },
      "execution_count": 80,
      "outputs": []
    },
    {
      "cell_type": "code",
      "source": [
        "# demonstrate prediction for next 10 days\n",
        "from numpy import array\n",
        "\n",
        "lst_output=[]\n",
        "n_steps=100\n",
        "i=0\n",
        "while(i<30):\n",
        "    \n",
        "    if(len(temp_input)>100):\n",
        "        #print(temp_input)\n",
        "        x_input=np.array(temp_input[1:])\n",
        "        print(\"{} day input {}\".format(i,x_input))\n",
        "        x_input=x_input.reshape(1,-1)\n",
        "        x_input = x_input.reshape((1, n_steps, 1))\n",
        "        #print(x_input)\n",
        "        yhat = model.predict(x_input, verbose=0)\n",
        "        print(\"{} day output {}\".format(i,yhat))\n",
        "        temp_input.extend(yhat[0].tolist())\n",
        "        temp_input=temp_input[1:]\n",
        "        #print(temp_input)\n",
        "        lst_output.extend(yhat.tolist())\n",
        "        i=i+1\n",
        "    else:\n",
        "        x_input = x_input.reshape((1, n_steps,1))\n",
        "        yhat = model.predict(x_input, verbose=0)\n",
        "        print(yhat[0])\n",
        "        temp_input.extend(yhat[0].tolist())\n",
        "        print(len(temp_input))\n",
        "        lst_output.extend(yhat.tolist())\n",
        "        i=i+1\n",
        "    \n",
        "\n",
        "print(lst_output)"
      ],
      "metadata": {
        "colab": {
          "base_uri": "https://localhost:8080/"
        },
        "id": "JNTAx3rv3Ol_",
        "outputId": "69daa33f-355c-4563-c076-8a4af24280b6"
      },
      "execution_count": 81,
      "outputs": [
        {
          "output_type": "stream",
          "name": "stdout",
          "text": [
            "[0.2709321]\n",
            "101\n",
            "1 day input [0.39223486 0.40117987 0.39379888 0.39045137 0.41284128 0.41717659\n",
            " 0.42381672 0.42022227 0.39827139 0.39934149 0.39994514 0.38501854\n",
            " 0.40326519 0.41020716 0.43366718 0.45372479 0.4539443  0.41580466\n",
            " 0.40861571 0.38803676 0.41665525 0.39234464 0.3878996  0.39017697\n",
            " 0.3908904  0.41451504 0.41937168 0.40987791 0.41849363 0.41377419\n",
            " 0.44069145 0.43835919 0.4466182  0.4476883  0.44379203 0.4311154\n",
            " 0.43059407 0.41221021 0.39873784 0.39341474 0.39931403 0.41446015\n",
            " 0.39525313 0.38809165 0.3825765  0.39840855 0.40507615 0.39124711\n",
            " 0.386363   0.39143916 0.3960214  0.41547537 0.41495407 0.37151875\n",
            " 0.36696393 0.36169572 0.35275071 0.35749762 0.35220194 0.34130881\n",
            " 0.34322955 0.33661684 0.32553162 0.32012621 0.33990946 0.32564139\n",
            " 0.32363835 0.33167788 0.33626012 0.33269309 0.33294007 0.31751955\n",
            " 0.31845245 0.30404718 0.30119359 0.30884894 0.29916313 0.31913841\n",
            " 0.31573605 0.3169159  0.31225134 0.30808066 0.30728496 0.32865962\n",
            " 0.30755936 0.22008507 0.22354232 0.20696942 0.21256688 0.1997805\n",
            " 0.19530801 0.20046646 0.21673756 0.21605159 0.22977089 0.25830705\n",
            " 0.26146247 0.26475512 0.27260256 0.27093211]\n",
            "1 day output [[0.2700735]]\n",
            "2 day input [0.40117987 0.39379888 0.39045137 0.41284128 0.41717659 0.42381672\n",
            " 0.42022227 0.39827139 0.39934149 0.39994514 0.38501854 0.40326519\n",
            " 0.41020716 0.43366718 0.45372479 0.4539443  0.41580466 0.40861571\n",
            " 0.38803676 0.41665525 0.39234464 0.3878996  0.39017697 0.3908904\n",
            " 0.41451504 0.41937168 0.40987791 0.41849363 0.41377419 0.44069145\n",
            " 0.43835919 0.4466182  0.4476883  0.44379203 0.4311154  0.43059407\n",
            " 0.41221021 0.39873784 0.39341474 0.39931403 0.41446015 0.39525313\n",
            " 0.38809165 0.3825765  0.39840855 0.40507615 0.39124711 0.386363\n",
            " 0.39143916 0.3960214  0.41547537 0.41495407 0.37151875 0.36696393\n",
            " 0.36169572 0.35275071 0.35749762 0.35220194 0.34130881 0.34322955\n",
            " 0.33661684 0.32553162 0.32012621 0.33990946 0.32564139 0.32363835\n",
            " 0.33167788 0.33626012 0.33269309 0.33294007 0.31751955 0.31845245\n",
            " 0.30404718 0.30119359 0.30884894 0.29916313 0.31913841 0.31573605\n",
            " 0.3169159  0.31225134 0.30808066 0.30728496 0.32865962 0.30755936\n",
            " 0.22008507 0.22354232 0.20696942 0.21256688 0.1997805  0.19530801\n",
            " 0.20046646 0.21673756 0.21605159 0.22977089 0.25830705 0.26146247\n",
            " 0.26475512 0.27260256 0.27093211 0.2700735 ]\n",
            "2 day output [[0.268166]]\n",
            "3 day input [0.39379888 0.39045137 0.41284128 0.41717659 0.42381672 0.42022227\n",
            " 0.39827139 0.39934149 0.39994514 0.38501854 0.40326519 0.41020716\n",
            " 0.43366718 0.45372479 0.4539443  0.41580466 0.40861571 0.38803676\n",
            " 0.41665525 0.39234464 0.3878996  0.39017697 0.3908904  0.41451504\n",
            " 0.41937168 0.40987791 0.41849363 0.41377419 0.44069145 0.43835919\n",
            " 0.4466182  0.4476883  0.44379203 0.4311154  0.43059407 0.41221021\n",
            " 0.39873784 0.39341474 0.39931403 0.41446015 0.39525313 0.38809165\n",
            " 0.3825765  0.39840855 0.40507615 0.39124711 0.386363   0.39143916\n",
            " 0.3960214  0.41547537 0.41495407 0.37151875 0.36696393 0.36169572\n",
            " 0.35275071 0.35749762 0.35220194 0.34130881 0.34322955 0.33661684\n",
            " 0.32553162 0.32012621 0.33990946 0.32564139 0.32363835 0.33167788\n",
            " 0.33626012 0.33269309 0.33294007 0.31751955 0.31845245 0.30404718\n",
            " 0.30119359 0.30884894 0.29916313 0.31913841 0.31573605 0.3169159\n",
            " 0.31225134 0.30808066 0.30728496 0.32865962 0.30755936 0.22008507\n",
            " 0.22354232 0.20696942 0.21256688 0.1997805  0.19530801 0.20046646\n",
            " 0.21673756 0.21605159 0.22977089 0.25830705 0.26146247 0.26475512\n",
            " 0.27260256 0.27093211 0.2700735  0.26816601]\n",
            "3 day output [[0.26574528]]\n",
            "4 day input [0.39045137 0.41284128 0.41717659 0.42381672 0.42022227 0.39827139\n",
            " 0.39934149 0.39994514 0.38501854 0.40326519 0.41020716 0.43366718\n",
            " 0.45372479 0.4539443  0.41580466 0.40861571 0.38803676 0.41665525\n",
            " 0.39234464 0.3878996  0.39017697 0.3908904  0.41451504 0.41937168\n",
            " 0.40987791 0.41849363 0.41377419 0.44069145 0.43835919 0.4466182\n",
            " 0.4476883  0.44379203 0.4311154  0.43059407 0.41221021 0.39873784\n",
            " 0.39341474 0.39931403 0.41446015 0.39525313 0.38809165 0.3825765\n",
            " 0.39840855 0.40507615 0.39124711 0.386363   0.39143916 0.3960214\n",
            " 0.41547537 0.41495407 0.37151875 0.36696393 0.36169572 0.35275071\n",
            " 0.35749762 0.35220194 0.34130881 0.34322955 0.33661684 0.32553162\n",
            " 0.32012621 0.33990946 0.32564139 0.32363835 0.33167788 0.33626012\n",
            " 0.33269309 0.33294007 0.31751955 0.31845245 0.30404718 0.30119359\n",
            " 0.30884894 0.29916313 0.31913841 0.31573605 0.3169159  0.31225134\n",
            " 0.30808066 0.30728496 0.32865962 0.30755936 0.22008507 0.22354232\n",
            " 0.20696942 0.21256688 0.1997805  0.19530801 0.20046646 0.21673756\n",
            " 0.21605159 0.22977089 0.25830705 0.26146247 0.26475512 0.27260256\n",
            " 0.27093211 0.2700735  0.26816601 0.26574528]\n",
            "4 day output [[0.26315072]]\n",
            "5 day input [0.41284128 0.41717659 0.42381672 0.42022227 0.39827139 0.39934149\n",
            " 0.39994514 0.38501854 0.40326519 0.41020716 0.43366718 0.45372479\n",
            " 0.4539443  0.41580466 0.40861571 0.38803676 0.41665525 0.39234464\n",
            " 0.3878996  0.39017697 0.3908904  0.41451504 0.41937168 0.40987791\n",
            " 0.41849363 0.41377419 0.44069145 0.43835919 0.4466182  0.4476883\n",
            " 0.44379203 0.4311154  0.43059407 0.41221021 0.39873784 0.39341474\n",
            " 0.39931403 0.41446015 0.39525313 0.38809165 0.3825765  0.39840855\n",
            " 0.40507615 0.39124711 0.386363   0.39143916 0.3960214  0.41547537\n",
            " 0.41495407 0.37151875 0.36696393 0.36169572 0.35275071 0.35749762\n",
            " 0.35220194 0.34130881 0.34322955 0.33661684 0.32553162 0.32012621\n",
            " 0.33990946 0.32564139 0.32363835 0.33167788 0.33626012 0.33269309\n",
            " 0.33294007 0.31751955 0.31845245 0.30404718 0.30119359 0.30884894\n",
            " 0.29916313 0.31913841 0.31573605 0.3169159  0.31225134 0.30808066\n",
            " 0.30728496 0.32865962 0.30755936 0.22008507 0.22354232 0.20696942\n",
            " 0.21256688 0.1997805  0.19530801 0.20046646 0.21673756 0.21605159\n",
            " 0.22977089 0.25830705 0.26146247 0.26475512 0.27260256 0.27093211\n",
            " 0.2700735  0.26816601 0.26574528 0.26315072]\n",
            "5 day output [[0.26064786]]\n",
            "6 day input [0.41717659 0.42381672 0.42022227 0.39827139 0.39934149 0.39994514\n",
            " 0.38501854 0.40326519 0.41020716 0.43366718 0.45372479 0.4539443\n",
            " 0.41580466 0.40861571 0.38803676 0.41665525 0.39234464 0.3878996\n",
            " 0.39017697 0.3908904  0.41451504 0.41937168 0.40987791 0.41849363\n",
            " 0.41377419 0.44069145 0.43835919 0.4466182  0.4476883  0.44379203\n",
            " 0.4311154  0.43059407 0.41221021 0.39873784 0.39341474 0.39931403\n",
            " 0.41446015 0.39525313 0.38809165 0.3825765  0.39840855 0.40507615\n",
            " 0.39124711 0.386363   0.39143916 0.3960214  0.41547537 0.41495407\n",
            " 0.37151875 0.36696393 0.36169572 0.35275071 0.35749762 0.35220194\n",
            " 0.34130881 0.34322955 0.33661684 0.32553162 0.32012621 0.33990946\n",
            " 0.32564139 0.32363835 0.33167788 0.33626012 0.33269309 0.33294007\n",
            " 0.31751955 0.31845245 0.30404718 0.30119359 0.30884894 0.29916313\n",
            " 0.31913841 0.31573605 0.3169159  0.31225134 0.30808066 0.30728496\n",
            " 0.32865962 0.30755936 0.22008507 0.22354232 0.20696942 0.21256688\n",
            " 0.1997805  0.19530801 0.20046646 0.21673756 0.21605159 0.22977089\n",
            " 0.25830705 0.26146247 0.26475512 0.27260256 0.27093211 0.2700735\n",
            " 0.26816601 0.26574528 0.26315072 0.26064786]\n",
            "6 day output [[0.2584257]]\n",
            "7 day input [0.42381672 0.42022227 0.39827139 0.39934149 0.39994514 0.38501854\n",
            " 0.40326519 0.41020716 0.43366718 0.45372479 0.4539443  0.41580466\n",
            " 0.40861571 0.38803676 0.41665525 0.39234464 0.3878996  0.39017697\n",
            " 0.3908904  0.41451504 0.41937168 0.40987791 0.41849363 0.41377419\n",
            " 0.44069145 0.43835919 0.4466182  0.4476883  0.44379203 0.4311154\n",
            " 0.43059407 0.41221021 0.39873784 0.39341474 0.39931403 0.41446015\n",
            " 0.39525313 0.38809165 0.3825765  0.39840855 0.40507615 0.39124711\n",
            " 0.386363   0.39143916 0.3960214  0.41547537 0.41495407 0.37151875\n",
            " 0.36696393 0.36169572 0.35275071 0.35749762 0.35220194 0.34130881\n",
            " 0.34322955 0.33661684 0.32553162 0.32012621 0.33990946 0.32564139\n",
            " 0.32363835 0.33167788 0.33626012 0.33269309 0.33294007 0.31751955\n",
            " 0.31845245 0.30404718 0.30119359 0.30884894 0.29916313 0.31913841\n",
            " 0.31573605 0.3169159  0.31225134 0.30808066 0.30728496 0.32865962\n",
            " 0.30755936 0.22008507 0.22354232 0.20696942 0.21256688 0.1997805\n",
            " 0.19530801 0.20046646 0.21673756 0.21605159 0.22977089 0.25830705\n",
            " 0.26146247 0.26475512 0.27260256 0.27093211 0.2700735  0.26816601\n",
            " 0.26574528 0.26315072 0.26064786 0.25842571]\n",
            "7 day output [[0.25660318]]\n",
            "8 day input [0.42022227 0.39827139 0.39934149 0.39994514 0.38501854 0.40326519\n",
            " 0.41020716 0.43366718 0.45372479 0.4539443  0.41580466 0.40861571\n",
            " 0.38803676 0.41665525 0.39234464 0.3878996  0.39017697 0.3908904\n",
            " 0.41451504 0.41937168 0.40987791 0.41849363 0.41377419 0.44069145\n",
            " 0.43835919 0.4466182  0.4476883  0.44379203 0.4311154  0.43059407\n",
            " 0.41221021 0.39873784 0.39341474 0.39931403 0.41446015 0.39525313\n",
            " 0.38809165 0.3825765  0.39840855 0.40507615 0.39124711 0.386363\n",
            " 0.39143916 0.3960214  0.41547537 0.41495407 0.37151875 0.36696393\n",
            " 0.36169572 0.35275071 0.35749762 0.35220194 0.34130881 0.34322955\n",
            " 0.33661684 0.32553162 0.32012621 0.33990946 0.32564139 0.32363835\n",
            " 0.33167788 0.33626012 0.33269309 0.33294007 0.31751955 0.31845245\n",
            " 0.30404718 0.30119359 0.30884894 0.29916313 0.31913841 0.31573605\n",
            " 0.3169159  0.31225134 0.30808066 0.30728496 0.32865962 0.30755936\n",
            " 0.22008507 0.22354232 0.20696942 0.21256688 0.1997805  0.19530801\n",
            " 0.20046646 0.21673756 0.21605159 0.22977089 0.25830705 0.26146247\n",
            " 0.26475512 0.27260256 0.27093211 0.2700735  0.26816601 0.26574528\n",
            " 0.26315072 0.26064786 0.25842571 0.25660318]\n",
            "8 day output [[0.25523758]]\n",
            "9 day input [0.39827139 0.39934149 0.39994514 0.38501854 0.40326519 0.41020716\n",
            " 0.43366718 0.45372479 0.4539443  0.41580466 0.40861571 0.38803676\n",
            " 0.41665525 0.39234464 0.3878996  0.39017697 0.3908904  0.41451504\n",
            " 0.41937168 0.40987791 0.41849363 0.41377419 0.44069145 0.43835919\n",
            " 0.4466182  0.4476883  0.44379203 0.4311154  0.43059407 0.41221021\n",
            " 0.39873784 0.39341474 0.39931403 0.41446015 0.39525313 0.38809165\n",
            " 0.3825765  0.39840855 0.40507615 0.39124711 0.386363   0.39143916\n",
            " 0.3960214  0.41547537 0.41495407 0.37151875 0.36696393 0.36169572\n",
            " 0.35275071 0.35749762 0.35220194 0.34130881 0.34322955 0.33661684\n",
            " 0.32553162 0.32012621 0.33990946 0.32564139 0.32363835 0.33167788\n",
            " 0.33626012 0.33269309 0.33294007 0.31751955 0.31845245 0.30404718\n",
            " 0.30119359 0.30884894 0.29916313 0.31913841 0.31573605 0.3169159\n",
            " 0.31225134 0.30808066 0.30728496 0.32865962 0.30755936 0.22008507\n",
            " 0.22354232 0.20696942 0.21256688 0.1997805  0.19530801 0.20046646\n",
            " 0.21673756 0.21605159 0.22977089 0.25830705 0.26146247 0.26475512\n",
            " 0.27260256 0.27093211 0.2700735  0.26816601 0.26574528 0.26315072\n",
            " 0.26064786 0.25842571 0.25660318 0.25523758]\n",
            "9 day output [[0.25433606]]\n",
            "10 day input [0.39934149 0.39994514 0.38501854 0.40326519 0.41020716 0.43366718\n",
            " 0.45372479 0.4539443  0.41580466 0.40861571 0.38803676 0.41665525\n",
            " 0.39234464 0.3878996  0.39017697 0.3908904  0.41451504 0.41937168\n",
            " 0.40987791 0.41849363 0.41377419 0.44069145 0.43835919 0.4466182\n",
            " 0.4476883  0.44379203 0.4311154  0.43059407 0.41221021 0.39873784\n",
            " 0.39341474 0.39931403 0.41446015 0.39525313 0.38809165 0.3825765\n",
            " 0.39840855 0.40507615 0.39124711 0.386363   0.39143916 0.3960214\n",
            " 0.41547537 0.41495407 0.37151875 0.36696393 0.36169572 0.35275071\n",
            " 0.35749762 0.35220194 0.34130881 0.34322955 0.33661684 0.32553162\n",
            " 0.32012621 0.33990946 0.32564139 0.32363835 0.33167788 0.33626012\n",
            " 0.33269309 0.33294007 0.31751955 0.31845245 0.30404718 0.30119359\n",
            " 0.30884894 0.29916313 0.31913841 0.31573605 0.3169159  0.31225134\n",
            " 0.30808066 0.30728496 0.32865962 0.30755936 0.22008507 0.22354232\n",
            " 0.20696942 0.21256688 0.1997805  0.19530801 0.20046646 0.21673756\n",
            " 0.21605159 0.22977089 0.25830705 0.26146247 0.26475512 0.27260256\n",
            " 0.27093211 0.2700735  0.26816601 0.26574528 0.26315072 0.26064786\n",
            " 0.25842571 0.25660318 0.25523758 0.25433606]\n",
            "10 day output [[0.25386736]]\n",
            "11 day input [0.39994514 0.38501854 0.40326519 0.41020716 0.43366718 0.45372479\n",
            " 0.4539443  0.41580466 0.40861571 0.38803676 0.41665525 0.39234464\n",
            " 0.3878996  0.39017697 0.3908904  0.41451504 0.41937168 0.40987791\n",
            " 0.41849363 0.41377419 0.44069145 0.43835919 0.4466182  0.4476883\n",
            " 0.44379203 0.4311154  0.43059407 0.41221021 0.39873784 0.39341474\n",
            " 0.39931403 0.41446015 0.39525313 0.38809165 0.3825765  0.39840855\n",
            " 0.40507615 0.39124711 0.386363   0.39143916 0.3960214  0.41547537\n",
            " 0.41495407 0.37151875 0.36696393 0.36169572 0.35275071 0.35749762\n",
            " 0.35220194 0.34130881 0.34322955 0.33661684 0.32553162 0.32012621\n",
            " 0.33990946 0.32564139 0.32363835 0.33167788 0.33626012 0.33269309\n",
            " 0.33294007 0.31751955 0.31845245 0.30404718 0.30119359 0.30884894\n",
            " 0.29916313 0.31913841 0.31573605 0.3169159  0.31225134 0.30808066\n",
            " 0.30728496 0.32865962 0.30755936 0.22008507 0.22354232 0.20696942\n",
            " 0.21256688 0.1997805  0.19530801 0.20046646 0.21673756 0.21605159\n",
            " 0.22977089 0.25830705 0.26146247 0.26475512 0.27260256 0.27093211\n",
            " 0.2700735  0.26816601 0.26574528 0.26315072 0.26064786 0.25842571\n",
            " 0.25660318 0.25523758 0.25433606 0.25386736]\n",
            "11 day output [[0.2537735]]\n",
            "12 day input [0.38501854 0.40326519 0.41020716 0.43366718 0.45372479 0.4539443\n",
            " 0.41580466 0.40861571 0.38803676 0.41665525 0.39234464 0.3878996\n",
            " 0.39017697 0.3908904  0.41451504 0.41937168 0.40987791 0.41849363\n",
            " 0.41377419 0.44069145 0.43835919 0.4466182  0.4476883  0.44379203\n",
            " 0.4311154  0.43059407 0.41221021 0.39873784 0.39341474 0.39931403\n",
            " 0.41446015 0.39525313 0.38809165 0.3825765  0.39840855 0.40507615\n",
            " 0.39124711 0.386363   0.39143916 0.3960214  0.41547537 0.41495407\n",
            " 0.37151875 0.36696393 0.36169572 0.35275071 0.35749762 0.35220194\n",
            " 0.34130881 0.34322955 0.33661684 0.32553162 0.32012621 0.33990946\n",
            " 0.32564139 0.32363835 0.33167788 0.33626012 0.33269309 0.33294007\n",
            " 0.31751955 0.31845245 0.30404718 0.30119359 0.30884894 0.29916313\n",
            " 0.31913841 0.31573605 0.3169159  0.31225134 0.30808066 0.30728496\n",
            " 0.32865962 0.30755936 0.22008507 0.22354232 0.20696942 0.21256688\n",
            " 0.1997805  0.19530801 0.20046646 0.21673756 0.21605159 0.22977089\n",
            " 0.25830705 0.26146247 0.26475512 0.27260256 0.27093211 0.2700735\n",
            " 0.26816601 0.26574528 0.26315072 0.26064786 0.25842571 0.25660318\n",
            " 0.25523758 0.25433606 0.25386736 0.25377351]\n",
            "12 day output [[0.25398108]]\n",
            "13 day input [0.40326519 0.41020716 0.43366718 0.45372479 0.4539443  0.41580466\n",
            " 0.40861571 0.38803676 0.41665525 0.39234464 0.3878996  0.39017697\n",
            " 0.3908904  0.41451504 0.41937168 0.40987791 0.41849363 0.41377419\n",
            " 0.44069145 0.43835919 0.4466182  0.4476883  0.44379203 0.4311154\n",
            " 0.43059407 0.41221021 0.39873784 0.39341474 0.39931403 0.41446015\n",
            " 0.39525313 0.38809165 0.3825765  0.39840855 0.40507615 0.39124711\n",
            " 0.386363   0.39143916 0.3960214  0.41547537 0.41495407 0.37151875\n",
            " 0.36696393 0.36169572 0.35275071 0.35749762 0.35220194 0.34130881\n",
            " 0.34322955 0.33661684 0.32553162 0.32012621 0.33990946 0.32564139\n",
            " 0.32363835 0.33167788 0.33626012 0.33269309 0.33294007 0.31751955\n",
            " 0.31845245 0.30404718 0.30119359 0.30884894 0.29916313 0.31913841\n",
            " 0.31573605 0.3169159  0.31225134 0.30808066 0.30728496 0.32865962\n",
            " 0.30755936 0.22008507 0.22354232 0.20696942 0.21256688 0.1997805\n",
            " 0.19530801 0.20046646 0.21673756 0.21605159 0.22977089 0.25830705\n",
            " 0.26146247 0.26475512 0.27260256 0.27093211 0.2700735  0.26816601\n",
            " 0.26574528 0.26315072 0.26064786 0.25842571 0.25660318 0.25523758\n",
            " 0.25433606 0.25386736 0.25377351 0.25398108]\n",
            "13 day output [[0.2544107]]\n",
            "14 day input [0.41020716 0.43366718 0.45372479 0.4539443  0.41580466 0.40861571\n",
            " 0.38803676 0.41665525 0.39234464 0.3878996  0.39017697 0.3908904\n",
            " 0.41451504 0.41937168 0.40987791 0.41849363 0.41377419 0.44069145\n",
            " 0.43835919 0.4466182  0.4476883  0.44379203 0.4311154  0.43059407\n",
            " 0.41221021 0.39873784 0.39341474 0.39931403 0.41446015 0.39525313\n",
            " 0.38809165 0.3825765  0.39840855 0.40507615 0.39124711 0.386363\n",
            " 0.39143916 0.3960214  0.41547537 0.41495407 0.37151875 0.36696393\n",
            " 0.36169572 0.35275071 0.35749762 0.35220194 0.34130881 0.34322955\n",
            " 0.33661684 0.32553162 0.32012621 0.33990946 0.32564139 0.32363835\n",
            " 0.33167788 0.33626012 0.33269309 0.33294007 0.31751955 0.31845245\n",
            " 0.30404718 0.30119359 0.30884894 0.29916313 0.31913841 0.31573605\n",
            " 0.3169159  0.31225134 0.30808066 0.30728496 0.32865962 0.30755936\n",
            " 0.22008507 0.22354232 0.20696942 0.21256688 0.1997805  0.19530801\n",
            " 0.20046646 0.21673756 0.21605159 0.22977089 0.25830705 0.26146247\n",
            " 0.26475512 0.27260256 0.27093211 0.2700735  0.26816601 0.26574528\n",
            " 0.26315072 0.26064786 0.25842571 0.25660318 0.25523758 0.25433606\n",
            " 0.25386736 0.25377351 0.25398108 0.25441071]\n",
            "14 day output [[0.25498453]]\n",
            "15 day input [0.43366718 0.45372479 0.4539443  0.41580466 0.40861571 0.38803676\n",
            " 0.41665525 0.39234464 0.3878996  0.39017697 0.3908904  0.41451504\n",
            " 0.41937168 0.40987791 0.41849363 0.41377419 0.44069145 0.43835919\n",
            " 0.4466182  0.4476883  0.44379203 0.4311154  0.43059407 0.41221021\n",
            " 0.39873784 0.39341474 0.39931403 0.41446015 0.39525313 0.38809165\n",
            " 0.3825765  0.39840855 0.40507615 0.39124711 0.386363   0.39143916\n",
            " 0.3960214  0.41547537 0.41495407 0.37151875 0.36696393 0.36169572\n",
            " 0.35275071 0.35749762 0.35220194 0.34130881 0.34322955 0.33661684\n",
            " 0.32553162 0.32012621 0.33990946 0.32564139 0.32363835 0.33167788\n",
            " 0.33626012 0.33269309 0.33294007 0.31751955 0.31845245 0.30404718\n",
            " 0.30119359 0.30884894 0.29916313 0.31913841 0.31573605 0.3169159\n",
            " 0.31225134 0.30808066 0.30728496 0.32865962 0.30755936 0.22008507\n",
            " 0.22354232 0.20696942 0.21256688 0.1997805  0.19530801 0.20046646\n",
            " 0.21673756 0.21605159 0.22977089 0.25830705 0.26146247 0.26475512\n",
            " 0.27260256 0.27093211 0.2700735  0.26816601 0.26574528 0.26315072\n",
            " 0.26064786 0.25842571 0.25660318 0.25523758 0.25433606 0.25386736\n",
            " 0.25377351 0.25398108 0.25441071 0.25498453]\n",
            "15 day output [[0.25563198]]\n",
            "16 day input [0.45372479 0.4539443  0.41580466 0.40861571 0.38803676 0.41665525\n",
            " 0.39234464 0.3878996  0.39017697 0.3908904  0.41451504 0.41937168\n",
            " 0.40987791 0.41849363 0.41377419 0.44069145 0.43835919 0.4466182\n",
            " 0.4476883  0.44379203 0.4311154  0.43059407 0.41221021 0.39873784\n",
            " 0.39341474 0.39931403 0.41446015 0.39525313 0.38809165 0.3825765\n",
            " 0.39840855 0.40507615 0.39124711 0.386363   0.39143916 0.3960214\n",
            " 0.41547537 0.41495407 0.37151875 0.36696393 0.36169572 0.35275071\n",
            " 0.35749762 0.35220194 0.34130881 0.34322955 0.33661684 0.32553162\n",
            " 0.32012621 0.33990946 0.32564139 0.32363835 0.33167788 0.33626012\n",
            " 0.33269309 0.33294007 0.31751955 0.31845245 0.30404718 0.30119359\n",
            " 0.30884894 0.29916313 0.31913841 0.31573605 0.3169159  0.31225134\n",
            " 0.30808066 0.30728496 0.32865962 0.30755936 0.22008507 0.22354232\n",
            " 0.20696942 0.21256688 0.1997805  0.19530801 0.20046646 0.21673756\n",
            " 0.21605159 0.22977089 0.25830705 0.26146247 0.26475512 0.27260256\n",
            " 0.27093211 0.2700735  0.26816601 0.26574528 0.26315072 0.26064786\n",
            " 0.25842571 0.25660318 0.25523758 0.25433606 0.25386736 0.25377351\n",
            " 0.25398108 0.25441071 0.25498453 0.25563198]\n",
            "16 day output [[0.25629354]]\n",
            "17 day input [0.4539443  0.41580466 0.40861571 0.38803676 0.41665525 0.39234464\n",
            " 0.3878996  0.39017697 0.3908904  0.41451504 0.41937168 0.40987791\n",
            " 0.41849363 0.41377419 0.44069145 0.43835919 0.4466182  0.4476883\n",
            " 0.44379203 0.4311154  0.43059407 0.41221021 0.39873784 0.39341474\n",
            " 0.39931403 0.41446015 0.39525313 0.38809165 0.3825765  0.39840855\n",
            " 0.40507615 0.39124711 0.386363   0.39143916 0.3960214  0.41547537\n",
            " 0.41495407 0.37151875 0.36696393 0.36169572 0.35275071 0.35749762\n",
            " 0.35220194 0.34130881 0.34322955 0.33661684 0.32553162 0.32012621\n",
            " 0.33990946 0.32564139 0.32363835 0.33167788 0.33626012 0.33269309\n",
            " 0.33294007 0.31751955 0.31845245 0.30404718 0.30119359 0.30884894\n",
            " 0.29916313 0.31913841 0.31573605 0.3169159  0.31225134 0.30808066\n",
            " 0.30728496 0.32865962 0.30755936 0.22008507 0.22354232 0.20696942\n",
            " 0.21256688 0.1997805  0.19530801 0.20046646 0.21673756 0.21605159\n",
            " 0.22977089 0.25830705 0.26146247 0.26475512 0.27260256 0.27093211\n",
            " 0.2700735  0.26816601 0.26574528 0.26315072 0.26064786 0.25842571\n",
            " 0.25660318 0.25523758 0.25433606 0.25386736 0.25377351 0.25398108\n",
            " 0.25441071 0.25498453 0.25563198 0.25629354]\n",
            "17 day output [[0.2569226]]\n",
            "18 day input [0.41580466 0.40861571 0.38803676 0.41665525 0.39234464 0.3878996\n",
            " 0.39017697 0.3908904  0.41451504 0.41937168 0.40987791 0.41849363\n",
            " 0.41377419 0.44069145 0.43835919 0.4466182  0.4476883  0.44379203\n",
            " 0.4311154  0.43059407 0.41221021 0.39873784 0.39341474 0.39931403\n",
            " 0.41446015 0.39525313 0.38809165 0.3825765  0.39840855 0.40507615\n",
            " 0.39124711 0.386363   0.39143916 0.3960214  0.41547537 0.41495407\n",
            " 0.37151875 0.36696393 0.36169572 0.35275071 0.35749762 0.35220194\n",
            " 0.34130881 0.34322955 0.33661684 0.32553162 0.32012621 0.33990946\n",
            " 0.32564139 0.32363835 0.33167788 0.33626012 0.33269309 0.33294007\n",
            " 0.31751955 0.31845245 0.30404718 0.30119359 0.30884894 0.29916313\n",
            " 0.31913841 0.31573605 0.3169159  0.31225134 0.30808066 0.30728496\n",
            " 0.32865962 0.30755936 0.22008507 0.22354232 0.20696942 0.21256688\n",
            " 0.1997805  0.19530801 0.20046646 0.21673756 0.21605159 0.22977089\n",
            " 0.25830705 0.26146247 0.26475512 0.27260256 0.27093211 0.2700735\n",
            " 0.26816601 0.26574528 0.26315072 0.26064786 0.25842571 0.25660318\n",
            " 0.25523758 0.25433606 0.25386736 0.25377351 0.25398108 0.25441071\n",
            " 0.25498453 0.25563198 0.25629354 0.2569226 ]\n",
            "18 day output [[0.25748646]]\n",
            "19 day input [0.40861571 0.38803676 0.41665525 0.39234464 0.3878996  0.39017697\n",
            " 0.3908904  0.41451504 0.41937168 0.40987791 0.41849363 0.41377419\n",
            " 0.44069145 0.43835919 0.4466182  0.4476883  0.44379203 0.4311154\n",
            " 0.43059407 0.41221021 0.39873784 0.39341474 0.39931403 0.41446015\n",
            " 0.39525313 0.38809165 0.3825765  0.39840855 0.40507615 0.39124711\n",
            " 0.386363   0.39143916 0.3960214  0.41547537 0.41495407 0.37151875\n",
            " 0.36696393 0.36169572 0.35275071 0.35749762 0.35220194 0.34130881\n",
            " 0.34322955 0.33661684 0.32553162 0.32012621 0.33990946 0.32564139\n",
            " 0.32363835 0.33167788 0.33626012 0.33269309 0.33294007 0.31751955\n",
            " 0.31845245 0.30404718 0.30119359 0.30884894 0.29916313 0.31913841\n",
            " 0.31573605 0.3169159  0.31225134 0.30808066 0.30728496 0.32865962\n",
            " 0.30755936 0.22008507 0.22354232 0.20696942 0.21256688 0.1997805\n",
            " 0.19530801 0.20046646 0.21673756 0.21605159 0.22977089 0.25830705\n",
            " 0.26146247 0.26475512 0.27260256 0.27093211 0.2700735  0.26816601\n",
            " 0.26574528 0.26315072 0.26064786 0.25842571 0.25660318 0.25523758\n",
            " 0.25433606 0.25386736 0.25377351 0.25398108 0.25441071 0.25498453\n",
            " 0.25563198 0.25629354 0.2569226  0.25748646]\n",
            "19 day output [[0.25796542]]\n",
            "20 day input [0.38803676 0.41665525 0.39234464 0.3878996  0.39017697 0.3908904\n",
            " 0.41451504 0.41937168 0.40987791 0.41849363 0.41377419 0.44069145\n",
            " 0.43835919 0.4466182  0.4476883  0.44379203 0.4311154  0.43059407\n",
            " 0.41221021 0.39873784 0.39341474 0.39931403 0.41446015 0.39525313\n",
            " 0.38809165 0.3825765  0.39840855 0.40507615 0.39124711 0.386363\n",
            " 0.39143916 0.3960214  0.41547537 0.41495407 0.37151875 0.36696393\n",
            " 0.36169572 0.35275071 0.35749762 0.35220194 0.34130881 0.34322955\n",
            " 0.33661684 0.32553162 0.32012621 0.33990946 0.32564139 0.32363835\n",
            " 0.33167788 0.33626012 0.33269309 0.33294007 0.31751955 0.31845245\n",
            " 0.30404718 0.30119359 0.30884894 0.29916313 0.31913841 0.31573605\n",
            " 0.3169159  0.31225134 0.30808066 0.30728496 0.32865962 0.30755936\n",
            " 0.22008507 0.22354232 0.20696942 0.21256688 0.1997805  0.19530801\n",
            " 0.20046646 0.21673756 0.21605159 0.22977089 0.25830705 0.26146247\n",
            " 0.26475512 0.27260256 0.27093211 0.2700735  0.26816601 0.26574528\n",
            " 0.26315072 0.26064786 0.25842571 0.25660318 0.25523758 0.25433606\n",
            " 0.25386736 0.25377351 0.25398108 0.25441071 0.25498453 0.25563198\n",
            " 0.25629354 0.2569226  0.25748646 0.25796542]\n",
            "20 day output [[0.2583513]]\n",
            "21 day input [0.41665525 0.39234464 0.3878996  0.39017697 0.3908904  0.41451504\n",
            " 0.41937168 0.40987791 0.41849363 0.41377419 0.44069145 0.43835919\n",
            " 0.4466182  0.4476883  0.44379203 0.4311154  0.43059407 0.41221021\n",
            " 0.39873784 0.39341474 0.39931403 0.41446015 0.39525313 0.38809165\n",
            " 0.3825765  0.39840855 0.40507615 0.39124711 0.386363   0.39143916\n",
            " 0.3960214  0.41547537 0.41495407 0.37151875 0.36696393 0.36169572\n",
            " 0.35275071 0.35749762 0.35220194 0.34130881 0.34322955 0.33661684\n",
            " 0.32553162 0.32012621 0.33990946 0.32564139 0.32363835 0.33167788\n",
            " 0.33626012 0.33269309 0.33294007 0.31751955 0.31845245 0.30404718\n",
            " 0.30119359 0.30884894 0.29916313 0.31913841 0.31573605 0.3169159\n",
            " 0.31225134 0.30808066 0.30728496 0.32865962 0.30755936 0.22008507\n",
            " 0.22354232 0.20696942 0.21256688 0.1997805  0.19530801 0.20046646\n",
            " 0.21673756 0.21605159 0.22977089 0.25830705 0.26146247 0.26475512\n",
            " 0.27260256 0.27093211 0.2700735  0.26816601 0.26574528 0.26315072\n",
            " 0.26064786 0.25842571 0.25660318 0.25523758 0.25433606 0.25386736\n",
            " 0.25377351 0.25398108 0.25441071 0.25498453 0.25563198 0.25629354\n",
            " 0.2569226  0.25748646 0.25796542 0.2583513 ]\n",
            "21 day output [[0.25864547]]\n",
            "22 day input [0.39234464 0.3878996  0.39017697 0.3908904  0.41451504 0.41937168\n",
            " 0.40987791 0.41849363 0.41377419 0.44069145 0.43835919 0.4466182\n",
            " 0.4476883  0.44379203 0.4311154  0.43059407 0.41221021 0.39873784\n",
            " 0.39341474 0.39931403 0.41446015 0.39525313 0.38809165 0.3825765\n",
            " 0.39840855 0.40507615 0.39124711 0.386363   0.39143916 0.3960214\n",
            " 0.41547537 0.41495407 0.37151875 0.36696393 0.36169572 0.35275071\n",
            " 0.35749762 0.35220194 0.34130881 0.34322955 0.33661684 0.32553162\n",
            " 0.32012621 0.33990946 0.32564139 0.32363835 0.33167788 0.33626012\n",
            " 0.33269309 0.33294007 0.31751955 0.31845245 0.30404718 0.30119359\n",
            " 0.30884894 0.29916313 0.31913841 0.31573605 0.3169159  0.31225134\n",
            " 0.30808066 0.30728496 0.32865962 0.30755936 0.22008507 0.22354232\n",
            " 0.20696942 0.21256688 0.1997805  0.19530801 0.20046646 0.21673756\n",
            " 0.21605159 0.22977089 0.25830705 0.26146247 0.26475512 0.27260256\n",
            " 0.27093211 0.2700735  0.26816601 0.26574528 0.26315072 0.26064786\n",
            " 0.25842571 0.25660318 0.25523758 0.25433606 0.25386736 0.25377351\n",
            " 0.25398108 0.25441071 0.25498453 0.25563198 0.25629354 0.2569226\n",
            " 0.25748646 0.25796542 0.2583513  0.25864547]\n",
            "22 day output [[0.25885645]]\n",
            "23 day input [0.3878996  0.39017697 0.3908904  0.41451504 0.41937168 0.40987791\n",
            " 0.41849363 0.41377419 0.44069145 0.43835919 0.4466182  0.4476883\n",
            " 0.44379203 0.4311154  0.43059407 0.41221021 0.39873784 0.39341474\n",
            " 0.39931403 0.41446015 0.39525313 0.38809165 0.3825765  0.39840855\n",
            " 0.40507615 0.39124711 0.386363   0.39143916 0.3960214  0.41547537\n",
            " 0.41495407 0.37151875 0.36696393 0.36169572 0.35275071 0.35749762\n",
            " 0.35220194 0.34130881 0.34322955 0.33661684 0.32553162 0.32012621\n",
            " 0.33990946 0.32564139 0.32363835 0.33167788 0.33626012 0.33269309\n",
            " 0.33294007 0.31751955 0.31845245 0.30404718 0.30119359 0.30884894\n",
            " 0.29916313 0.31913841 0.31573605 0.3169159  0.31225134 0.30808066\n",
            " 0.30728496 0.32865962 0.30755936 0.22008507 0.22354232 0.20696942\n",
            " 0.21256688 0.1997805  0.19530801 0.20046646 0.21673756 0.21605159\n",
            " 0.22977089 0.25830705 0.26146247 0.26475512 0.27260256 0.27093211\n",
            " 0.2700735  0.26816601 0.26574528 0.26315072 0.26064786 0.25842571\n",
            " 0.25660318 0.25523758 0.25433606 0.25386736 0.25377351 0.25398108\n",
            " 0.25441071 0.25498453 0.25563198 0.25629354 0.2569226  0.25748646\n",
            " 0.25796542 0.2583513  0.25864547 0.25885645]\n",
            "23 day output [[0.25899738]]\n",
            "24 day input [0.39017697 0.3908904  0.41451504 0.41937168 0.40987791 0.41849363\n",
            " 0.41377419 0.44069145 0.43835919 0.4466182  0.4476883  0.44379203\n",
            " 0.4311154  0.43059407 0.41221021 0.39873784 0.39341474 0.39931403\n",
            " 0.41446015 0.39525313 0.38809165 0.3825765  0.39840855 0.40507615\n",
            " 0.39124711 0.386363   0.39143916 0.3960214  0.41547537 0.41495407\n",
            " 0.37151875 0.36696393 0.36169572 0.35275071 0.35749762 0.35220194\n",
            " 0.34130881 0.34322955 0.33661684 0.32553162 0.32012621 0.33990946\n",
            " 0.32564139 0.32363835 0.33167788 0.33626012 0.33269309 0.33294007\n",
            " 0.31751955 0.31845245 0.30404718 0.30119359 0.30884894 0.29916313\n",
            " 0.31913841 0.31573605 0.3169159  0.31225134 0.30808066 0.30728496\n",
            " 0.32865962 0.30755936 0.22008507 0.22354232 0.20696942 0.21256688\n",
            " 0.1997805  0.19530801 0.20046646 0.21673756 0.21605159 0.22977089\n",
            " 0.25830705 0.26146247 0.26475512 0.27260256 0.27093211 0.2700735\n",
            " 0.26816601 0.26574528 0.26315072 0.26064786 0.25842571 0.25660318\n",
            " 0.25523758 0.25433606 0.25386736 0.25377351 0.25398108 0.25441071\n",
            " 0.25498453 0.25563198 0.25629354 0.2569226  0.25748646 0.25796542\n",
            " 0.2583513  0.25864547 0.25885645 0.25899738]\n",
            "24 day output [[0.25908402]]\n",
            "25 day input [0.3908904  0.41451504 0.41937168 0.40987791 0.41849363 0.41377419\n",
            " 0.44069145 0.43835919 0.4466182  0.4476883  0.44379203 0.4311154\n",
            " 0.43059407 0.41221021 0.39873784 0.39341474 0.39931403 0.41446015\n",
            " 0.39525313 0.38809165 0.3825765  0.39840855 0.40507615 0.39124711\n",
            " 0.386363   0.39143916 0.3960214  0.41547537 0.41495407 0.37151875\n",
            " 0.36696393 0.36169572 0.35275071 0.35749762 0.35220194 0.34130881\n",
            " 0.34322955 0.33661684 0.32553162 0.32012621 0.33990946 0.32564139\n",
            " 0.32363835 0.33167788 0.33626012 0.33269309 0.33294007 0.31751955\n",
            " 0.31845245 0.30404718 0.30119359 0.30884894 0.29916313 0.31913841\n",
            " 0.31573605 0.3169159  0.31225134 0.30808066 0.30728496 0.32865962\n",
            " 0.30755936 0.22008507 0.22354232 0.20696942 0.21256688 0.1997805\n",
            " 0.19530801 0.20046646 0.21673756 0.21605159 0.22977089 0.25830705\n",
            " 0.26146247 0.26475512 0.27260256 0.27093211 0.2700735  0.26816601\n",
            " 0.26574528 0.26315072 0.26064786 0.25842571 0.25660318 0.25523758\n",
            " 0.25433606 0.25386736 0.25377351 0.25398108 0.25441071 0.25498453\n",
            " 0.25563198 0.25629354 0.2569226  0.25748646 0.25796542 0.2583513\n",
            " 0.25864547 0.25885645 0.25899738 0.25908402]\n",
            "25 day output [[0.2591327]]\n",
            "26 day input [0.41451504 0.41937168 0.40987791 0.41849363 0.41377419 0.44069145\n",
            " 0.43835919 0.4466182  0.4476883  0.44379203 0.4311154  0.43059407\n",
            " 0.41221021 0.39873784 0.39341474 0.39931403 0.41446015 0.39525313\n",
            " 0.38809165 0.3825765  0.39840855 0.40507615 0.39124711 0.386363\n",
            " 0.39143916 0.3960214  0.41547537 0.41495407 0.37151875 0.36696393\n",
            " 0.36169572 0.35275071 0.35749762 0.35220194 0.34130881 0.34322955\n",
            " 0.33661684 0.32553162 0.32012621 0.33990946 0.32564139 0.32363835\n",
            " 0.33167788 0.33626012 0.33269309 0.33294007 0.31751955 0.31845245\n",
            " 0.30404718 0.30119359 0.30884894 0.29916313 0.31913841 0.31573605\n",
            " 0.3169159  0.31225134 0.30808066 0.30728496 0.32865962 0.30755936\n",
            " 0.22008507 0.22354232 0.20696942 0.21256688 0.1997805  0.19530801\n",
            " 0.20046646 0.21673756 0.21605159 0.22977089 0.25830705 0.26146247\n",
            " 0.26475512 0.27260256 0.27093211 0.2700735  0.26816601 0.26574528\n",
            " 0.26315072 0.26064786 0.25842571 0.25660318 0.25523758 0.25433606\n",
            " 0.25386736 0.25377351 0.25398108 0.25441071 0.25498453 0.25563198\n",
            " 0.25629354 0.2569226  0.25748646 0.25796542 0.2583513  0.25864547\n",
            " 0.25885645 0.25899738 0.25908402 0.25913271]\n",
            "26 day output [[0.25915885]]\n",
            "27 day input [0.41937168 0.40987791 0.41849363 0.41377419 0.44069145 0.43835919\n",
            " 0.4466182  0.4476883  0.44379203 0.4311154  0.43059407 0.41221021\n",
            " 0.39873784 0.39341474 0.39931403 0.41446015 0.39525313 0.38809165\n",
            " 0.3825765  0.39840855 0.40507615 0.39124711 0.386363   0.39143916\n",
            " 0.3960214  0.41547537 0.41495407 0.37151875 0.36696393 0.36169572\n",
            " 0.35275071 0.35749762 0.35220194 0.34130881 0.34322955 0.33661684\n",
            " 0.32553162 0.32012621 0.33990946 0.32564139 0.32363835 0.33167788\n",
            " 0.33626012 0.33269309 0.33294007 0.31751955 0.31845245 0.30404718\n",
            " 0.30119359 0.30884894 0.29916313 0.31913841 0.31573605 0.3169159\n",
            " 0.31225134 0.30808066 0.30728496 0.32865962 0.30755936 0.22008507\n",
            " 0.22354232 0.20696942 0.21256688 0.1997805  0.19530801 0.20046646\n",
            " 0.21673756 0.21605159 0.22977089 0.25830705 0.26146247 0.26475512\n",
            " 0.27260256 0.27093211 0.2700735  0.26816601 0.26574528 0.26315072\n",
            " 0.26064786 0.25842571 0.25660318 0.25523758 0.25433606 0.25386736\n",
            " 0.25377351 0.25398108 0.25441071 0.25498453 0.25563198 0.25629354\n",
            " 0.2569226  0.25748646 0.25796542 0.2583513  0.25864547 0.25885645\n",
            " 0.25899738 0.25908402 0.25913271 0.25915885]\n",
            "27 day output [[0.25917596]]\n",
            "28 day input [0.40987791 0.41849363 0.41377419 0.44069145 0.43835919 0.4466182\n",
            " 0.4476883  0.44379203 0.4311154  0.43059407 0.41221021 0.39873784\n",
            " 0.39341474 0.39931403 0.41446015 0.39525313 0.38809165 0.3825765\n",
            " 0.39840855 0.40507615 0.39124711 0.386363   0.39143916 0.3960214\n",
            " 0.41547537 0.41495407 0.37151875 0.36696393 0.36169572 0.35275071\n",
            " 0.35749762 0.35220194 0.34130881 0.34322955 0.33661684 0.32553162\n",
            " 0.32012621 0.33990946 0.32564139 0.32363835 0.33167788 0.33626012\n",
            " 0.33269309 0.33294007 0.31751955 0.31845245 0.30404718 0.30119359\n",
            " 0.30884894 0.29916313 0.31913841 0.31573605 0.3169159  0.31225134\n",
            " 0.30808066 0.30728496 0.32865962 0.30755936 0.22008507 0.22354232\n",
            " 0.20696942 0.21256688 0.1997805  0.19530801 0.20046646 0.21673756\n",
            " 0.21605159 0.22977089 0.25830705 0.26146247 0.26475512 0.27260256\n",
            " 0.27093211 0.2700735  0.26816601 0.26574528 0.26315072 0.26064786\n",
            " 0.25842571 0.25660318 0.25523758 0.25433606 0.25386736 0.25377351\n",
            " 0.25398108 0.25441071 0.25498453 0.25563198 0.25629354 0.2569226\n",
            " 0.25748646 0.25796542 0.2583513  0.25864547 0.25885645 0.25899738\n",
            " 0.25908402 0.25913271 0.25915885 0.25917596]\n",
            "28 day output [[0.25919488]]\n",
            "29 day input [0.41849363 0.41377419 0.44069145 0.43835919 0.4466182  0.4476883\n",
            " 0.44379203 0.4311154  0.43059407 0.41221021 0.39873784 0.39341474\n",
            " 0.39931403 0.41446015 0.39525313 0.38809165 0.3825765  0.39840855\n",
            " 0.40507615 0.39124711 0.386363   0.39143916 0.3960214  0.41547537\n",
            " 0.41495407 0.37151875 0.36696393 0.36169572 0.35275071 0.35749762\n",
            " 0.35220194 0.34130881 0.34322955 0.33661684 0.32553162 0.32012621\n",
            " 0.33990946 0.32564139 0.32363835 0.33167788 0.33626012 0.33269309\n",
            " 0.33294007 0.31751955 0.31845245 0.30404718 0.30119359 0.30884894\n",
            " 0.29916313 0.31913841 0.31573605 0.3169159  0.31225134 0.30808066\n",
            " 0.30728496 0.32865962 0.30755936 0.22008507 0.22354232 0.20696942\n",
            " 0.21256688 0.1997805  0.19530801 0.20046646 0.21673756 0.21605159\n",
            " 0.22977089 0.25830705 0.26146247 0.26475512 0.27260256 0.27093211\n",
            " 0.2700735  0.26816601 0.26574528 0.26315072 0.26064786 0.25842571\n",
            " 0.25660318 0.25523758 0.25433606 0.25386736 0.25377351 0.25398108\n",
            " 0.25441071 0.25498453 0.25563198 0.25629354 0.2569226  0.25748646\n",
            " 0.25796542 0.2583513  0.25864547 0.25885645 0.25899738 0.25908402\n",
            " 0.25913271 0.25915885 0.25917596 0.25919488]\n",
            "29 day output [[0.25922376]]\n",
            "[[0.2709321081638336], [0.2700735032558441], [0.2681660056114197], [0.26574528217315674], [0.26315072178840637], [0.26064786314964294], [0.2584257125854492], [0.2566031813621521], [0.2552375793457031], [0.25433605909347534], [0.25386735796928406], [0.2537735104560852], [0.2539810836315155], [0.2544107139110565], [0.2549845278263092], [0.2556319832801819], [0.25629353523254395], [0.2569226026535034], [0.2574864625930786], [0.25796541571617126], [0.25835129618644714], [0.2586454749107361], [0.2588564455509186], [0.25899738073349], [0.259084016084671], [0.2591327130794525], [0.2591588497161865], [0.25917595624923706], [0.25919488072395325], [0.2592237591743469]]\n"
          ]
        }
      ]
    },
    {
      "cell_type": "code",
      "source": [
        "day_new=np.arange(1,101)\n",
        "day_pred=np.arange(101,131)"
      ],
      "metadata": {
        "id": "cLFhmt_f3RLe"
      },
      "execution_count": 84,
      "outputs": []
    },
    {
      "cell_type": "code",
      "source": [
        "len(df1)"
      ],
      "metadata": {
        "colab": {
          "base_uri": "https://localhost:8080/"
        },
        "id": "04XUzvVkLTXI",
        "outputId": "7398be9a-5e8a-45cb-d956-5d1a44c62f6b"
      },
      "execution_count": 86,
      "outputs": [
        {
          "output_type": "execute_result",
          "data": {
            "text/plain": [
              "2642"
            ]
          },
          "metadata": {},
          "execution_count": 86
        }
      ]
    },
    {
      "cell_type": "code",
      "source": [
        "import matplotlib.pyplot as plt\n",
        "plt.plot(day_new,scaler.inverse_transform(df1[2542:]))\n",
        "plt.plot(day_pred,scaler.inverse_transform(lst_output))"
      ],
      "metadata": {
        "colab": {
          "base_uri": "https://localhost:8080/",
          "height": 282
        },
        "id": "ChLpKATk3S93",
        "outputId": "c5a184bf-f97b-4c86-8121-257e0e79d513"
      },
      "execution_count": 87,
      "outputs": [
        {
          "output_type": "execute_result",
          "data": {
            "text/plain": [
              "[<matplotlib.lines.Line2D at 0x7f6c571f6f50>]"
            ]
          },
          "metadata": {},
          "execution_count": 87
        },
        {
          "output_type": "display_data",
          "data": {
            "text/plain": [
              "<Figure size 432x288 with 1 Axes>"
            ],
            "image/png": "[encoded data removed]"
          },
          "metadata": {
            "needs_background": "light"
          }
        }
      ]
    }
  ]
}